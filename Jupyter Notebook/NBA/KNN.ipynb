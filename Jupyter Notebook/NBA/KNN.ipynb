{
 "cells": [
  {
   "cell_type": "code",
   "execution_count": 3,
   "id": "184e28c5",
   "metadata": {},
   "outputs": [],
   "source": [
    "import pandas as pd\n",
    "import numpy as np\n",
    "import matplotlib.pyplot as plt\n",
    "import seaborn as sns\n",
    "%matplotlib inline"
   ]
  },
  {
   "cell_type": "code",
   "execution_count": 4,
   "id": "cc100c13",
   "metadata": {
    "scrolled": true
   },
   "outputs": [
    {
     "data": {
      "text/html": [
       "<div>\n",
       "<style scoped>\n",
       "    .dataframe tbody tr th:only-of-type {\n",
       "        vertical-align: middle;\n",
       "    }\n",
       "\n",
       "    .dataframe tbody tr th {\n",
       "        vertical-align: top;\n",
       "    }\n",
       "\n",
       "    .dataframe thead th {\n",
       "        text-align: right;\n",
       "    }\n",
       "</style>\n",
       "<table border=\"1\" class=\"dataframe\">\n",
       "  <thead>\n",
       "    <tr style=\"text-align: right;\">\n",
       "      <th></th>\n",
       "      <th>Team</th>\n",
       "      <th>Season Success</th>\n",
       "      <th>Games Played</th>\n",
       "      <th>MP</th>\n",
       "      <th>FG</th>\n",
       "      <th>FGA</th>\n",
       "      <th>FG%</th>\n",
       "      <th>3P</th>\n",
       "      <th>3PA</th>\n",
       "      <th>3P%</th>\n",
       "      <th>...</th>\n",
       "      <th>ORB</th>\n",
       "      <th>DRB</th>\n",
       "      <th>TRB</th>\n",
       "      <th>AST</th>\n",
       "      <th>STL</th>\n",
       "      <th>BLK</th>\n",
       "      <th>TOV</th>\n",
       "      <th>PF</th>\n",
       "      <th>PTS</th>\n",
       "      <th>Playoffs</th>\n",
       "    </tr>\n",
       "  </thead>\n",
       "  <tbody>\n",
       "    <tr>\n",
       "      <th>0</th>\n",
       "      <td>Brooklyn Nets</td>\n",
       "      <td>Eliminated in First Round</td>\n",
       "      <td>82.0</td>\n",
       "      <td>19755.0</td>\n",
       "      <td>42.2</td>\n",
       "      <td>89.0</td>\n",
       "      <td>0.475</td>\n",
       "      <td>11.5</td>\n",
       "      <td>31.9</td>\n",
       "      <td>0.361</td>\n",
       "      <td>...</td>\n",
       "      <td>10.4</td>\n",
       "      <td>34.3</td>\n",
       "      <td>44.7</td>\n",
       "      <td>25.4</td>\n",
       "      <td>7.1</td>\n",
       "      <td>5.5</td>\n",
       "      <td>14.1</td>\n",
       "      <td>20.5</td>\n",
       "      <td>113.6</td>\n",
       "      <td>1</td>\n",
       "    </tr>\n",
       "    <tr>\n",
       "      <th>1</th>\n",
       "      <td>Atlanta Hawks</td>\n",
       "      <td>Eliminated in First Round</td>\n",
       "      <td>82.0</td>\n",
       "      <td>19705.0</td>\n",
       "      <td>42.4</td>\n",
       "      <td>90.3</td>\n",
       "      <td>0.470</td>\n",
       "      <td>13.2</td>\n",
       "      <td>35.2</td>\n",
       "      <td>0.374</td>\n",
       "      <td>...</td>\n",
       "      <td>10.3</td>\n",
       "      <td>34.7</td>\n",
       "      <td>45.0</td>\n",
       "      <td>25.2</td>\n",
       "      <td>7.3</td>\n",
       "      <td>4.3</td>\n",
       "      <td>12.1</td>\n",
       "      <td>19.1</td>\n",
       "      <td>116.5</td>\n",
       "      <td>1</td>\n",
       "    </tr>\n",
       "    <tr>\n",
       "      <th>2</th>\n",
       "      <td>Chicago Bulls</td>\n",
       "      <td>Eliminated in First Round</td>\n",
       "      <td>82.0</td>\n",
       "      <td>19730.0</td>\n",
       "      <td>42.3</td>\n",
       "      <td>88.2</td>\n",
       "      <td>0.480</td>\n",
       "      <td>10.8</td>\n",
       "      <td>29.3</td>\n",
       "      <td>0.369</td>\n",
       "      <td>...</td>\n",
       "      <td>8.8</td>\n",
       "      <td>34.2</td>\n",
       "      <td>42.9</td>\n",
       "      <td>24.2</td>\n",
       "      <td>7.2</td>\n",
       "      <td>4.2</td>\n",
       "      <td>13.0</td>\n",
       "      <td>19.1</td>\n",
       "      <td>113.2</td>\n",
       "      <td>1</td>\n",
       "    </tr>\n",
       "    <tr>\n",
       "      <th>3</th>\n",
       "      <td>Toronto Raptors</td>\n",
       "      <td>Eliminated in First Round</td>\n",
       "      <td>82.0</td>\n",
       "      <td>19855.0</td>\n",
       "      <td>41.9</td>\n",
       "      <td>94.3</td>\n",
       "      <td>0.445</td>\n",
       "      <td>12.3</td>\n",
       "      <td>35.3</td>\n",
       "      <td>0.349</td>\n",
       "      <td>...</td>\n",
       "      <td>13.8</td>\n",
       "      <td>33.0</td>\n",
       "      <td>46.8</td>\n",
       "      <td>22.8</td>\n",
       "      <td>9.3</td>\n",
       "      <td>4.7</td>\n",
       "      <td>12.9</td>\n",
       "      <td>20.2</td>\n",
       "      <td>112.9</td>\n",
       "      <td>1</td>\n",
       "    </tr>\n",
       "    <tr>\n",
       "      <th>4</th>\n",
       "      <td>Utah Jazz</td>\n",
       "      <td>Eliminated in First Round</td>\n",
       "      <td>82.0</td>\n",
       "      <td>19730.0</td>\n",
       "      <td>41.7</td>\n",
       "      <td>88.5</td>\n",
       "      <td>0.471</td>\n",
       "      <td>14.9</td>\n",
       "      <td>41.4</td>\n",
       "      <td>0.360</td>\n",
       "      <td>...</td>\n",
       "      <td>11.1</td>\n",
       "      <td>36.5</td>\n",
       "      <td>47.6</td>\n",
       "      <td>23.0</td>\n",
       "      <td>7.4</td>\n",
       "      <td>5.0</td>\n",
       "      <td>14.4</td>\n",
       "      <td>19.4</td>\n",
       "      <td>116.7</td>\n",
       "      <td>1</td>\n",
       "    </tr>\n",
       "  </tbody>\n",
       "</table>\n",
       "<p>5 rows × 26 columns</p>\n",
       "</div>"
      ],
      "text/plain": [
       "              Team             Season Success  Games Played       MP    FG  \\\n",
       "0    Brooklyn Nets  Eliminated in First Round          82.0  19755.0  42.2   \n",
       "1    Atlanta Hawks  Eliminated in First Round          82.0  19705.0  42.4   \n",
       "2    Chicago Bulls  Eliminated in First Round          82.0  19730.0  42.3   \n",
       "3  Toronto Raptors  Eliminated in First Round          82.0  19855.0  41.9   \n",
       "4        Utah Jazz  Eliminated in First Round          82.0  19730.0  41.7   \n",
       "\n",
       "    FGA    FG%    3P   3PA    3P%  ...   ORB   DRB   TRB   AST  STL  BLK  \\\n",
       "0  89.0  0.475  11.5  31.9  0.361  ...  10.4  34.3  44.7  25.4  7.1  5.5   \n",
       "1  90.3  0.470  13.2  35.2  0.374  ...  10.3  34.7  45.0  25.2  7.3  4.3   \n",
       "2  88.2  0.480  10.8  29.3  0.369  ...   8.8  34.2  42.9  24.2  7.2  4.2   \n",
       "3  94.3  0.445  12.3  35.3  0.349  ...  13.8  33.0  46.8  22.8  9.3  4.7   \n",
       "4  88.5  0.471  14.9  41.4  0.360  ...  11.1  36.5  47.6  23.0  7.4  5.0   \n",
       "\n",
       "    TOV    PF    PTS  Playoffs  \n",
       "0  14.1  20.5  113.6         1  \n",
       "1  12.1  19.1  116.5         1  \n",
       "2  13.0  19.1  113.2         1  \n",
       "3  12.9  20.2  112.9         1  \n",
       "4  14.4  19.4  116.7         1  \n",
       "\n",
       "[5 rows x 26 columns]"
      ]
     },
     "execution_count": 4,
     "metadata": {},
     "output_type": "execute_result"
    }
   ],
   "source": [
    "df_cleaned = pd.read_csv(\"new_merged_df.csv\")\n",
    "df_cleaned.head(5)"
   ]
  },
  {
   "cell_type": "code",
   "execution_count": 2,
   "id": "a5c237de",
   "metadata": {
    "scrolled": false
   },
   "outputs": [
    {
     "name": "stdout",
     "output_type": "stream",
     "text": [
      "Index(['Team', 'Season Success', 'Games Played', 'MP', 'FG', 'FGA', 'FG%',\n",
      "       '3P', '3PA', '3P%', '2P', '2PA', '2P%', 'FT', 'FTA', 'FT%', 'ORB',\n",
      "       'DRB', 'TRB', 'AST', 'STL', 'BLK', 'TOV', 'PF', 'PTS', 'Playoffs'],\n",
      "      dtype='object')\n"
     ]
    }
   ],
   "source": [
    "print(df_cleaned.columns)\n"
   ]
  },
  {
   "cell_type": "code",
   "execution_count": 8,
   "id": "e200ffc9",
   "metadata": {},
   "outputs": [
    {
     "name": "stdout",
     "output_type": "stream",
     "text": [
      "<class 'pandas.core.frame.DataFrame'>\n",
      "RangeIndex: 30 entries, 0 to 29\n",
      "Data columns (total 26 columns):\n",
      " #   Column          Non-Null Count  Dtype  \n",
      "---  ------          --------------  -----  \n",
      " 0   Team            30 non-null     object \n",
      " 1   Season Success  30 non-null     object \n",
      " 2   Games Played    30 non-null     float64\n",
      " 3   MP              30 non-null     float64\n",
      " 4   FG              30 non-null     float64\n",
      " 5   FGA             30 non-null     float64\n",
      " 6   FG%             30 non-null     float64\n",
      " 7   3P              30 non-null     float64\n",
      " 8   3PA             30 non-null     float64\n",
      " 9   3P%             30 non-null     float64\n",
      " 10  2P              30 non-null     float64\n",
      " 11  2PA             30 non-null     float64\n",
      " 12  2P%             30 non-null     float64\n",
      " 13  FT              30 non-null     float64\n",
      " 14  FTA             30 non-null     float64\n",
      " 15  FT%             30 non-null     float64\n",
      " 16  ORB             30 non-null     float64\n",
      " 17  DRB             30 non-null     float64\n",
      " 18  TRB             30 non-null     float64\n",
      " 19  AST             30 non-null     float64\n",
      " 20  STL             30 non-null     float64\n",
      " 21  BLK             30 non-null     float64\n",
      " 22  TOV             30 non-null     float64\n",
      " 23  PF              30 non-null     float64\n",
      " 24  PTS             30 non-null     float64\n",
      " 25  Playoffs        30 non-null     int64  \n",
      "dtypes: float64(23), int64(1), object(2)\n",
      "memory usage: 6.2+ KB\n"
     ]
    }
   ],
   "source": [
    "df_cleaned.info()"
   ]
  },
  {
   "cell_type": "code",
   "execution_count": 13,
   "id": "865c741a",
   "metadata": {},
   "outputs": [],
   "source": [
    "from sklearn.preprocessing import StandardScaler\n",
    "\n",
    "# Drop non-numeric columns from df_cleaned\n",
    "numeric_columns = df_cleaned.drop(['Team', 'Season Success', 'Playoffs'], axis=1)\n",
    "\n",
    "# Fit the scaler to the numeric columns\n",
    "scaler = StandardScaler()\n",
    "scaler.fit(numeric_columns)\n",
    "\n",
    "# Transform the numeric columns\n",
    "scaled_features = scaler.transform(numeric_columns)\n"
   ]
  },
  {
   "cell_type": "code",
   "execution_count": 16,
   "id": "08d30fd6",
   "metadata": {
    "scrolled": true
   },
   "outputs": [
    {
     "data": {
      "text/html": [
       "<div>\n",
       "<style scoped>\n",
       "    .dataframe tbody tr th:only-of-type {\n",
       "        vertical-align: middle;\n",
       "    }\n",
       "\n",
       "    .dataframe tbody tr th {\n",
       "        vertical-align: top;\n",
       "    }\n",
       "\n",
       "    .dataframe thead th {\n",
       "        text-align: right;\n",
       "    }\n",
       "</style>\n",
       "<table border=\"1\" class=\"dataframe\">\n",
       "  <thead>\n",
       "    <tr style=\"text-align: right;\">\n",
       "      <th></th>\n",
       "      <th>Games Played</th>\n",
       "      <th>MP</th>\n",
       "      <th>FG</th>\n",
       "      <th>FGA</th>\n",
       "      <th>FG%</th>\n",
       "      <th>3P</th>\n",
       "      <th>3PA</th>\n",
       "      <th>3P%</th>\n",
       "      <th>2P</th>\n",
       "      <th>2PA</th>\n",
       "      <th>...</th>\n",
       "      <th>FT%</th>\n",
       "      <th>ORB</th>\n",
       "      <th>DRB</th>\n",
       "      <th>TRB</th>\n",
       "      <th>AST</th>\n",
       "      <th>STL</th>\n",
       "      <th>BLK</th>\n",
       "      <th>TOV</th>\n",
       "      <th>PF</th>\n",
       "      <th>PTS</th>\n",
       "    </tr>\n",
       "  </thead>\n",
       "  <tbody>\n",
       "    <tr>\n",
       "      <th>0</th>\n",
       "      <td>0.0</td>\n",
       "      <td>-0.599653</td>\n",
       "      <td>0.775475</td>\n",
       "      <td>-0.095360</td>\n",
       "      <td>0.958908</td>\n",
       "      <td>-0.916874</td>\n",
       "      <td>-1.229201</td>\n",
       "      <td>0.543513</td>\n",
       "      <td>1.121613</td>\n",
       "      <td>0.916035</td>\n",
       "      <td>...</td>\n",
       "      <td>1.119278</td>\n",
       "      <td>-0.058121</td>\n",
       "      <td>-0.190189</td>\n",
       "      <td>-0.189780</td>\n",
       "      <td>0.279123</td>\n",
       "      <td>-0.829463</td>\n",
       "      <td>1.134468</td>\n",
       "      <td>0.202567</td>\n",
       "      <td>0.58404</td>\n",
       "      <td>0.521844</td>\n",
       "    </tr>\n",
       "    <tr>\n",
       "      <th>1</th>\n",
       "      <td>0.0</td>\n",
       "      <td>-1.417362</td>\n",
       "      <td>0.919081</td>\n",
       "      <td>0.619838</td>\n",
       "      <td>0.610636</td>\n",
       "      <td>0.508753</td>\n",
       "      <td>-0.134858</td>\n",
       "      <td>1.494051</td>\n",
       "      <td>0.347494</td>\n",
       "      <td>0.410085</td>\n",
       "      <td>...</td>\n",
       "      <td>1.380443</td>\n",
       "      <td>-0.137378</td>\n",
       "      <td>0.126793</td>\n",
       "      <td>-0.006122</td>\n",
       "      <td>0.155980</td>\n",
       "      <td>-0.560448</td>\n",
       "      <td>-0.713534</td>\n",
       "      <td>-2.048179</td>\n",
       "      <td>-0.73476</td>\n",
       "      <td>1.452181</td>\n",
       "    </tr>\n",
       "    <tr>\n",
       "      <th>2</th>\n",
       "      <td>0.0</td>\n",
       "      <td>-1.008508</td>\n",
       "      <td>0.847278</td>\n",
       "      <td>-0.535482</td>\n",
       "      <td>1.307180</td>\n",
       "      <td>-1.503897</td>\n",
       "      <td>-2.091411</td>\n",
       "      <td>1.128460</td>\n",
       "      <td>1.586085</td>\n",
       "      <td>1.421984</td>\n",
       "      <td>...</td>\n",
       "      <td>1.417753</td>\n",
       "      <td>-1.326224</td>\n",
       "      <td>-0.269434</td>\n",
       "      <td>-1.291726</td>\n",
       "      <td>-0.459731</td>\n",
       "      <td>-0.694955</td>\n",
       "      <td>-0.867534</td>\n",
       "      <td>-1.035343</td>\n",
       "      <td>-0.73476</td>\n",
       "      <td>0.393522</td>\n",
       "    </tr>\n",
       "    <tr>\n",
       "      <th>3</th>\n",
       "      <td>0.0</td>\n",
       "      <td>1.035765</td>\n",
       "      <td>0.560065</td>\n",
       "      <td>2.820447</td>\n",
       "      <td>-1.130722</td>\n",
       "      <td>-0.245991</td>\n",
       "      <td>-0.101697</td>\n",
       "      <td>-0.333907</td>\n",
       "      <td>0.553926</td>\n",
       "      <td>1.421984</td>\n",
       "      <td>...</td>\n",
       "      <td>-0.596948</td>\n",
       "      <td>2.636597</td>\n",
       "      <td>-1.220379</td>\n",
       "      <td>1.095825</td>\n",
       "      <td>-1.321727</td>\n",
       "      <td>2.129702</td>\n",
       "      <td>-0.097533</td>\n",
       "      <td>-1.147880</td>\n",
       "      <td>0.30144</td>\n",
       "      <td>0.297280</td>\n",
       "    </tr>\n",
       "    <tr>\n",
       "      <th>4</th>\n",
       "      <td>0.0</td>\n",
       "      <td>-1.008508</td>\n",
       "      <td>0.416459</td>\n",
       "      <td>-0.370436</td>\n",
       "      <td>0.680291</td>\n",
       "      <td>1.934380</td>\n",
       "      <td>1.921180</td>\n",
       "      <td>0.470395</td>\n",
       "      <td>-0.942706</td>\n",
       "      <td>-1.720228</td>\n",
       "      <td>...</td>\n",
       "      <td>-0.298474</td>\n",
       "      <td>0.496674</td>\n",
       "      <td>1.553209</td>\n",
       "      <td>1.585579</td>\n",
       "      <td>-1.198585</td>\n",
       "      <td>-0.425940</td>\n",
       "      <td>0.364467</td>\n",
       "      <td>0.540179</td>\n",
       "      <td>-0.45216</td>\n",
       "      <td>1.516343</td>\n",
       "    </tr>\n",
       "  </tbody>\n",
       "</table>\n",
       "<p>5 rows × 23 columns</p>\n",
       "</div>"
      ],
      "text/plain": [
       "   Games Played        MP        FG       FGA       FG%        3P       3PA  \\\n",
       "0           0.0 -0.599653  0.775475 -0.095360  0.958908 -0.916874 -1.229201   \n",
       "1           0.0 -1.417362  0.919081  0.619838  0.610636  0.508753 -0.134858   \n",
       "2           0.0 -1.008508  0.847278 -0.535482  1.307180 -1.503897 -2.091411   \n",
       "3           0.0  1.035765  0.560065  2.820447 -1.130722 -0.245991 -0.101697   \n",
       "4           0.0 -1.008508  0.416459 -0.370436  0.680291  1.934380  1.921180   \n",
       "\n",
       "        3P%        2P       2PA  ...       FT%       ORB       DRB       TRB  \\\n",
       "0  0.543513  1.121613  0.916035  ...  1.119278 -0.058121 -0.190189 -0.189780   \n",
       "1  1.494051  0.347494  0.410085  ...  1.380443 -0.137378  0.126793 -0.006122   \n",
       "2  1.128460  1.586085  1.421984  ...  1.417753 -1.326224 -0.269434 -1.291726   \n",
       "3 -0.333907  0.553926  1.421984  ... -0.596948  2.636597 -1.220379  1.095825   \n",
       "4  0.470395 -0.942706 -1.720228  ... -0.298474  0.496674  1.553209  1.585579   \n",
       "\n",
       "        AST       STL       BLK       TOV       PF       PTS  \n",
       "0  0.279123 -0.829463  1.134468  0.202567  0.58404  0.521844  \n",
       "1  0.155980 -0.560448 -0.713534 -2.048179 -0.73476  1.452181  \n",
       "2 -0.459731 -0.694955 -0.867534 -1.035343 -0.73476  0.393522  \n",
       "3 -1.321727  2.129702 -0.097533 -1.147880  0.30144  0.297280  \n",
       "4 -1.198585 -0.425940  0.364467  0.540179 -0.45216  1.516343  \n",
       "\n",
       "[5 rows x 23 columns]"
      ]
     },
     "execution_count": 16,
     "metadata": {},
     "output_type": "execute_result"
    }
   ],
   "source": [
    "# Drop non-numeric columns from df_cleaned\n",
    "non_numeric_columns = ['Team', 'Season Success', 'Playoffs']\n",
    "numeric_columns = df_cleaned.drop(non_numeric_columns, axis=1)\n",
    "\n",
    "# Fit the scaler to the numeric columns\n",
    "scaler = StandardScaler()\n",
    "scaler.fit(numeric_columns)\n",
    "\n",
    "# Transform the numeric columns\n",
    "scaled_features = scaler.transform(numeric_columns)\n",
    "\n",
    "# Create a DataFrame with the scaled features\n",
    "df_feat = pd.DataFrame(scaled_features, columns=numeric_columns.columns)\n",
    "df_feat.head()\n"
   ]
  },
  {
   "cell_type": "code",
   "execution_count": 17,
   "id": "9e3c5122",
   "metadata": {},
   "outputs": [],
   "source": [
    "from sklearn.model_selection import train_test_split"
   ]
  },
  {
   "cell_type": "code",
   "execution_count": 19,
   "id": "92529f68",
   "metadata": {},
   "outputs": [],
   "source": [
    "X_train, X_test, y_train, y_test = train_test_split(scaled_features,df_cleaned['Playoffs'],\n",
    "                                                    test_size=0.30)"
   ]
  },
  {
   "cell_type": "code",
   "execution_count": 20,
   "id": "0d4825cb",
   "metadata": {},
   "outputs": [],
   "source": [
    "from sklearn.neighbors import KNeighborsClassifier"
   ]
  },
  {
   "cell_type": "code",
   "execution_count": 22,
   "id": "b17663d8",
   "metadata": {},
   "outputs": [],
   "source": [
    "knn = KNeighborsClassifier(n_neighbors=1)"
   ]
  },
  {
   "cell_type": "code",
   "execution_count": 23,
   "id": "f24a617d",
   "metadata": {
    "scrolled": true
   },
   "outputs": [
    {
     "data": {
      "text/html": [
       "<style>#sk-container-id-1 {color: black;background-color: white;}#sk-container-id-1 pre{padding: 0;}#sk-container-id-1 div.sk-toggleable {background-color: white;}#sk-container-id-1 label.sk-toggleable__label {cursor: pointer;display: block;width: 100%;margin-bottom: 0;padding: 0.3em;box-sizing: border-box;text-align: center;}#sk-container-id-1 label.sk-toggleable__label-arrow:before {content: \"▸\";float: left;margin-right: 0.25em;color: #696969;}#sk-container-id-1 label.sk-toggleable__label-arrow:hover:before {color: black;}#sk-container-id-1 div.sk-estimator:hover label.sk-toggleable__label-arrow:before {color: black;}#sk-container-id-1 div.sk-toggleable__content {max-height: 0;max-width: 0;overflow: hidden;text-align: left;background-color: #f0f8ff;}#sk-container-id-1 div.sk-toggleable__content pre {margin: 0.2em;color: black;border-radius: 0.25em;background-color: #f0f8ff;}#sk-container-id-1 input.sk-toggleable__control:checked~div.sk-toggleable__content {max-height: 200px;max-width: 100%;overflow: auto;}#sk-container-id-1 input.sk-toggleable__control:checked~label.sk-toggleable__label-arrow:before {content: \"▾\";}#sk-container-id-1 div.sk-estimator input.sk-toggleable__control:checked~label.sk-toggleable__label {background-color: #d4ebff;}#sk-container-id-1 div.sk-label input.sk-toggleable__control:checked~label.sk-toggleable__label {background-color: #d4ebff;}#sk-container-id-1 input.sk-hidden--visually {border: 0;clip: rect(1px 1px 1px 1px);clip: rect(1px, 1px, 1px, 1px);height: 1px;margin: -1px;overflow: hidden;padding: 0;position: absolute;width: 1px;}#sk-container-id-1 div.sk-estimator {font-family: monospace;background-color: #f0f8ff;border: 1px dotted black;border-radius: 0.25em;box-sizing: border-box;margin-bottom: 0.5em;}#sk-container-id-1 div.sk-estimator:hover {background-color: #d4ebff;}#sk-container-id-1 div.sk-parallel-item::after {content: \"\";width: 100%;border-bottom: 1px solid gray;flex-grow: 1;}#sk-container-id-1 div.sk-label:hover label.sk-toggleable__label {background-color: #d4ebff;}#sk-container-id-1 div.sk-serial::before {content: \"\";position: absolute;border-left: 1px solid gray;box-sizing: border-box;top: 0;bottom: 0;left: 50%;z-index: 0;}#sk-container-id-1 div.sk-serial {display: flex;flex-direction: column;align-items: center;background-color: white;padding-right: 0.2em;padding-left: 0.2em;position: relative;}#sk-container-id-1 div.sk-item {position: relative;z-index: 1;}#sk-container-id-1 div.sk-parallel {display: flex;align-items: stretch;justify-content: center;background-color: white;position: relative;}#sk-container-id-1 div.sk-item::before, #sk-container-id-1 div.sk-parallel-item::before {content: \"\";position: absolute;border-left: 1px solid gray;box-sizing: border-box;top: 0;bottom: 0;left: 50%;z-index: -1;}#sk-container-id-1 div.sk-parallel-item {display: flex;flex-direction: column;z-index: 1;position: relative;background-color: white;}#sk-container-id-1 div.sk-parallel-item:first-child::after {align-self: flex-end;width: 50%;}#sk-container-id-1 div.sk-parallel-item:last-child::after {align-self: flex-start;width: 50%;}#sk-container-id-1 div.sk-parallel-item:only-child::after {width: 0;}#sk-container-id-1 div.sk-dashed-wrapped {border: 1px dashed gray;margin: 0 0.4em 0.5em 0.4em;box-sizing: border-box;padding-bottom: 0.4em;background-color: white;}#sk-container-id-1 div.sk-label label {font-family: monospace;font-weight: bold;display: inline-block;line-height: 1.2em;}#sk-container-id-1 div.sk-label-container {text-align: center;}#sk-container-id-1 div.sk-container {/* jupyter's `normalize.less` sets `[hidden] { display: none; }` but bootstrap.min.css set `[hidden] { display: none !important; }` so we also need the `!important` here to be able to override the default hidden behavior on the sphinx rendered scikit-learn.org. See: https://github.com/scikit-learn/scikit-learn/issues/21755 */display: inline-block !important;position: relative;}#sk-container-id-1 div.sk-text-repr-fallback {display: none;}</style><div id=\"sk-container-id-1\" class=\"sk-top-container\"><div class=\"sk-text-repr-fallback\"><pre>KNeighborsClassifier(n_neighbors=1)</pre><b>In a Jupyter environment, please rerun this cell to show the HTML representation or trust the notebook. <br />On GitHub, the HTML representation is unable to render, please try loading this page with nbviewer.org.</b></div><div class=\"sk-container\" hidden><div class=\"sk-item\"><div class=\"sk-estimator sk-toggleable\"><input class=\"sk-toggleable__control sk-hidden--visually\" id=\"sk-estimator-id-1\" type=\"checkbox\" checked><label for=\"sk-estimator-id-1\" class=\"sk-toggleable__label sk-toggleable__label-arrow\">KNeighborsClassifier</label><div class=\"sk-toggleable__content\"><pre>KNeighborsClassifier(n_neighbors=1)</pre></div></div></div></div></div>"
      ],
      "text/plain": [
       "KNeighborsClassifier(n_neighbors=1)"
      ]
     },
     "execution_count": 23,
     "metadata": {},
     "output_type": "execute_result"
    }
   ],
   "source": [
    "knn.fit(X_train,y_train)"
   ]
  },
  {
   "cell_type": "code",
   "execution_count": 24,
   "id": "96a579ac",
   "metadata": {},
   "outputs": [],
   "source": [
    "pred = knn.predict(X_test)"
   ]
  },
  {
   "cell_type": "code",
   "execution_count": 25,
   "id": "54ad443b",
   "metadata": {},
   "outputs": [],
   "source": [
    "from sklearn.metrics import classification_report,confusion_matrix"
   ]
  },
  {
   "cell_type": "code",
   "execution_count": 26,
   "id": "80057093",
   "metadata": {
    "scrolled": true
   },
   "outputs": [
    {
     "name": "stdout",
     "output_type": "stream",
     "text": [
      "[[3 1]\n",
      " [1 4]]\n"
     ]
    }
   ],
   "source": [
    "print(confusion_matrix(y_test,pred))"
   ]
  },
  {
   "cell_type": "code",
   "execution_count": 27,
   "id": "4d13e461",
   "metadata": {
    "scrolled": false
   },
   "outputs": [
    {
     "name": "stdout",
     "output_type": "stream",
     "text": [
      "              precision    recall  f1-score   support\n",
      "\n",
      "           0       0.75      0.75      0.75         4\n",
      "           1       0.80      0.80      0.80         5\n",
      "\n",
      "    accuracy                           0.78         9\n",
      "   macro avg       0.78      0.78      0.78         9\n",
      "weighted avg       0.78      0.78      0.78         9\n",
      "\n"
     ]
    }
   ],
   "source": [
    "print(classification_report(y_test,pred))"
   ]
  },
  {
   "cell_type": "code",
   "execution_count": 28,
   "id": "d1d44650",
   "metadata": {
    "scrolled": false
   },
   "outputs": [
    {
     "data": {
      "image/png": "[encoded data removed]",
      "text/plain": [
       "<Figure size 640x480 with 1 Axes>"
      ]
     },
     "metadata": {},
     "output_type": "display_data"
    }
   ],
   "source": [
    "from sklearn.neighbors import KNeighborsClassifier\n",
    "import matplotlib.pyplot as plt\n",
    "\n",
    "# Create a list to store the error rates for different K values\n",
    "error_rates = []\n",
    "\n",
    "# Define the range of K values to try\n",
    "k_values = range(1, 21)\n",
    "\n",
    "# Iterate over different K values\n",
    "for k in k_values:\n",
    "    # Create a KNN classifier with the current K value\n",
    "    knn = KNeighborsClassifier(n_neighbors=k)\n",
    "    \n",
    "    # Train the KNN model\n",
    "    knn.fit(X_train, y_train)\n",
    "    \n",
    "    # Make predictions on the test set\n",
    "    pred = knn.predict(X_test)\n",
    "    \n",
    "    # Calculate the error rate (misclassification rate)\n",
    "    error_rate = sum(pred != y_test) / len(y_test)\n",
    "    \n",
    "    # Store the error rate in the list\n",
    "    error_rates.append(error_rate)\n",
    "\n",
    "# Plotting the error rates\n",
    "plt.plot(k_values, error_rates, marker='o')\n",
    "plt.xlabel('K Value')\n",
    "plt.ylabel('Error Rate')\n",
    "plt.title('Elbow Method for KNN')\n",
    "plt.show()\n"
   ]
  },
  {
   "cell_type": "code",
   "execution_count": 31,
   "id": "cf135f91",
   "metadata": {
    "scrolled": false
   },
   "outputs": [
    {
     "name": "stderr",
     "output_type": "stream",
     "text": [
      "C:\\Users\\gabri\\AppData\\Local\\Temp\\ipykernel_18088\\3163014477.py:26: FutureWarning: The frame.append method is deprecated and will be removed from pandas in a future version. Use pandas.concat instead.\n",
      "  results = results.append({'K Value': k, 'Error Rate': error_rate}, ignore_index=True)\n",
      "C:\\Users\\gabri\\AppData\\Local\\Temp\\ipykernel_18088\\3163014477.py:26: FutureWarning: The frame.append method is deprecated and will be removed from pandas in a future version. Use pandas.concat instead.\n",
      "  results = results.append({'K Value': k, 'Error Rate': error_rate}, ignore_index=True)\n",
      "C:\\Users\\gabri\\AppData\\Local\\Temp\\ipykernel_18088\\3163014477.py:26: FutureWarning: The frame.append method is deprecated and will be removed from pandas in a future version. Use pandas.concat instead.\n",
      "  results = results.append({'K Value': k, 'Error Rate': error_rate}, ignore_index=True)\n",
      "C:\\Users\\gabri\\AppData\\Local\\Temp\\ipykernel_18088\\3163014477.py:26: FutureWarning: The frame.append method is deprecated and will be removed from pandas in a future version. Use pandas.concat instead.\n",
      "  results = results.append({'K Value': k, 'Error Rate': error_rate}, ignore_index=True)\n",
      "C:\\Users\\gabri\\AppData\\Local\\Temp\\ipykernel_18088\\3163014477.py:26: FutureWarning: The frame.append method is deprecated and will be removed from pandas in a future version. Use pandas.concat instead.\n",
      "  results = results.append({'K Value': k, 'Error Rate': error_rate}, ignore_index=True)\n",
      "C:\\Users\\gabri\\AppData\\Local\\Temp\\ipykernel_18088\\3163014477.py:26: FutureWarning: The frame.append method is deprecated and will be removed from pandas in a future version. Use pandas.concat instead.\n",
      "  results = results.append({'K Value': k, 'Error Rate': error_rate}, ignore_index=True)\n",
      "C:\\Users\\gabri\\AppData\\Local\\Temp\\ipykernel_18088\\3163014477.py:26: FutureWarning: The frame.append method is deprecated and will be removed from pandas in a future version. Use pandas.concat instead.\n",
      "  results = results.append({'K Value': k, 'Error Rate': error_rate}, ignore_index=True)\n",
      "C:\\Users\\gabri\\AppData\\Local\\Temp\\ipykernel_18088\\3163014477.py:26: FutureWarning: The frame.append method is deprecated and will be removed from pandas in a future version. Use pandas.concat instead.\n",
      "  results = results.append({'K Value': k, 'Error Rate': error_rate}, ignore_index=True)\n",
      "C:\\Users\\gabri\\AppData\\Local\\Temp\\ipykernel_18088\\3163014477.py:26: FutureWarning: The frame.append method is deprecated and will be removed from pandas in a future version. Use pandas.concat instead.\n",
      "  results = results.append({'K Value': k, 'Error Rate': error_rate}, ignore_index=True)\n",
      "C:\\Users\\gabri\\AppData\\Local\\Temp\\ipykernel_18088\\3163014477.py:26: FutureWarning: The frame.append method is deprecated and will be removed from pandas in a future version. Use pandas.concat instead.\n",
      "  results = results.append({'K Value': k, 'Error Rate': error_rate}, ignore_index=True)\n",
      "C:\\Users\\gabri\\AppData\\Local\\Temp\\ipykernel_18088\\3163014477.py:26: FutureWarning: The frame.append method is deprecated and will be removed from pandas in a future version. Use pandas.concat instead.\n",
      "  results = results.append({'K Value': k, 'Error Rate': error_rate}, ignore_index=True)\n",
      "C:\\Users\\gabri\\AppData\\Local\\Temp\\ipykernel_18088\\3163014477.py:26: FutureWarning: The frame.append method is deprecated and will be removed from pandas in a future version. Use pandas.concat instead.\n",
      "  results = results.append({'K Value': k, 'Error Rate': error_rate}, ignore_index=True)\n",
      "C:\\Users\\gabri\\AppData\\Local\\Temp\\ipykernel_18088\\3163014477.py:26: FutureWarning: The frame.append method is deprecated and will be removed from pandas in a future version. Use pandas.concat instead.\n",
      "  results = results.append({'K Value': k, 'Error Rate': error_rate}, ignore_index=True)\n",
      "C:\\Users\\gabri\\AppData\\Local\\Temp\\ipykernel_18088\\3163014477.py:26: FutureWarning: The frame.append method is deprecated and will be removed from pandas in a future version. Use pandas.concat instead.\n",
      "  results = results.append({'K Value': k, 'Error Rate': error_rate}, ignore_index=True)\n",
      "C:\\Users\\gabri\\AppData\\Local\\Temp\\ipykernel_18088\\3163014477.py:26: FutureWarning: The frame.append method is deprecated and will be removed from pandas in a future version. Use pandas.concat instead.\n",
      "  results = results.append({'K Value': k, 'Error Rate': error_rate}, ignore_index=True)\n",
      "C:\\Users\\gabri\\AppData\\Local\\Temp\\ipykernel_18088\\3163014477.py:26: FutureWarning: The frame.append method is deprecated and will be removed from pandas in a future version. Use pandas.concat instead.\n",
      "  results = results.append({'K Value': k, 'Error Rate': error_rate}, ignore_index=True)\n",
      "C:\\Users\\gabri\\AppData\\Local\\Temp\\ipykernel_18088\\3163014477.py:26: FutureWarning: The frame.append method is deprecated and will be removed from pandas in a future version. Use pandas.concat instead.\n",
      "  results = results.append({'K Value': k, 'Error Rate': error_rate}, ignore_index=True)\n",
      "C:\\Users\\gabri\\AppData\\Local\\Temp\\ipykernel_18088\\3163014477.py:26: FutureWarning: The frame.append method is deprecated and will be removed from pandas in a future version. Use pandas.concat instead.\n",
      "  results = results.append({'K Value': k, 'Error Rate': error_rate}, ignore_index=True)\n"
     ]
    },
    {
     "name": "stdout",
     "output_type": "stream",
     "text": [
      "    K Value  Error Rate\n",
      "0       1.0    0.222222\n",
      "1       2.0    0.222222\n",
      "2       3.0    0.333333\n",
      "3       4.0    0.000000\n",
      "4       5.0    0.000000\n",
      "5       6.0    0.111111\n",
      "6       7.0    0.111111\n",
      "7       8.0    0.000000\n",
      "8       9.0    0.111111\n",
      "9      10.0    0.111111\n",
      "10     11.0    0.222222\n",
      "11     12.0    0.333333\n",
      "12     13.0    0.333333\n",
      "13     14.0    0.333333\n",
      "14     15.0    0.444444\n",
      "15     16.0    0.333333\n",
      "16     17.0    0.444444\n",
      "17     18.0    0.333333\n",
      "18     19.0    0.444444\n",
      "19     20.0    0.222222\n"
     ]
    },
    {
     "name": "stderr",
     "output_type": "stream",
     "text": [
      "C:\\Users\\gabri\\AppData\\Local\\Temp\\ipykernel_18088\\3163014477.py:26: FutureWarning: The frame.append method is deprecated and will be removed from pandas in a future version. Use pandas.concat instead.\n",
      "  results = results.append({'K Value': k, 'Error Rate': error_rate}, ignore_index=True)\n",
      "C:\\Users\\gabri\\AppData\\Local\\Temp\\ipykernel_18088\\3163014477.py:26: FutureWarning: The frame.append method is deprecated and will be removed from pandas in a future version. Use pandas.concat instead.\n",
      "  results = results.append({'K Value': k, 'Error Rate': error_rate}, ignore_index=True)\n"
     ]
    }
   ],
   "source": [
    "import pandas as pd\n",
    "from sklearn.neighbors import KNeighborsClassifier\n",
    "import matplotlib.pyplot as plt\n",
    "\n",
    "# Create a DataFrame to store the results\n",
    "results = pd.DataFrame(columns=['K Value', 'Error Rate'])\n",
    "\n",
    "# Define the range of K values to try\n",
    "k_values = range(1, 21)\n",
    "\n",
    "# Iterate over different K values\n",
    "for k in k_values:\n",
    "    # Create a KNN classifier with the current K value\n",
    "    knn = KNeighborsClassifier(n_neighbors=k)\n",
    "    \n",
    "    # Train the KNN model\n",
    "    knn.fit(X_train, y_train)\n",
    "    \n",
    "    # Make predictions on the test set\n",
    "    pred = knn.predict(X_test)\n",
    "    \n",
    "    # Calculate the error rate (misclassification rate)\n",
    "    error_rate = sum(pred != y_test) / len(y_test)\n",
    "    \n",
    "    # Append the results to the DataFrame\n",
    "    results = results.append({'K Value': k, 'Error Rate': error_rate}, ignore_index=True)\n",
    "\n",
    "# Print the results\n",
    "print(results)\n"
   ]
  },
  {
   "cell_type": "code",
   "execution_count": 34,
   "id": "84d44470",
   "metadata": {},
   "outputs": [
    {
     "data": {
      "image/png": "[encoded data removed]",
      "text/plain": [
       "<Figure size 1000x600 with 1 Axes>"
      ]
     },
     "metadata": {},
     "output_type": "display_data"
    }
   ],
   "source": [
    "import matplotlib.pyplot as plt\n",
    "\n",
    "plt.figure(figsize=(10, 6))\n",
    "plt.plot(range(1, 21), error_rates, color='blue', linestyle='dashed', marker='o',\n",
    "         markerfacecolor='red', markersize=10)\n",
    "plt.title('Error Rate vs. K Value')\n",
    "plt.xlabel('K Value')\n",
    "plt.ylabel('Error Rate')\n",
    "plt.xticks(range(1, 21))\n",
    "plt.grid(True)\n",
    "plt.show()\n"
   ]
  }
 ],
 "metadata": {
  "kernelspec": {
   "display_name": "Python 3 (ipykernel)",
   "language": "python",
   "name": "python3"
  },
  "language_info": {
   "codemirror_mode": {
    "name": "ipython",
    "version": 3
   },
   "file_extension": ".py",
   "mimetype": "text/x-python",
   "name": "python",
   "nbconvert_exporter": "python",
   "pygments_lexer": "ipython3",
   "version": "3.10.9"
  }
 },
 "nbformat": 4,
 "nbformat_minor": 5
}

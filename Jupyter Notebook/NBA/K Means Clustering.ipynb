{
 "cells": [
  {
   "cell_type": "code",
   "execution_count": 2,
   "id": "fb441a42",
   "metadata": {},
   "outputs": [],
   "source": [
    "import pandas as pd\n",
    "import numpy as np\n",
    "import matplotlib.pyplot as plt\n",
    "import seaborn as sns\n",
    "%matplotlib inline"
   ]
  },
  {
   "cell_type": "code",
   "execution_count": 3,
   "id": "1e338913",
   "metadata": {
    "scrolled": true
   },
   "outputs": [
    {
     "data": {
      "text/html": [
       "<div>\n",
       "<style scoped>\n",
       "    .dataframe tbody tr th:only-of-type {\n",
       "        vertical-align: middle;\n",
       "    }\n",
       "\n",
       "    .dataframe tbody tr th {\n",
       "        vertical-align: top;\n",
       "    }\n",
       "\n",
       "    .dataframe thead th {\n",
       "        text-align: right;\n",
       "    }\n",
       "</style>\n",
       "<table border=\"1\" class=\"dataframe\">\n",
       "  <thead>\n",
       "    <tr style=\"text-align: right;\">\n",
       "      <th></th>\n",
       "      <th>Team</th>\n",
       "      <th>Season Success</th>\n",
       "      <th>Games Played</th>\n",
       "      <th>MP</th>\n",
       "      <th>FG</th>\n",
       "      <th>FGA</th>\n",
       "      <th>FG%</th>\n",
       "      <th>3P</th>\n",
       "      <th>3PA</th>\n",
       "      <th>3P%</th>\n",
       "      <th>...</th>\n",
       "      <th>ORB</th>\n",
       "      <th>DRB</th>\n",
       "      <th>TRB</th>\n",
       "      <th>AST</th>\n",
       "      <th>STL</th>\n",
       "      <th>BLK</th>\n",
       "      <th>TOV</th>\n",
       "      <th>PF</th>\n",
       "      <th>PTS</th>\n",
       "      <th>Playoffs</th>\n",
       "    </tr>\n",
       "  </thead>\n",
       "  <tbody>\n",
       "    <tr>\n",
       "      <th>0</th>\n",
       "      <td>Brooklyn Nets</td>\n",
       "      <td>Eliminated in First Round</td>\n",
       "      <td>82.0</td>\n",
       "      <td>19755.0</td>\n",
       "      <td>42.2</td>\n",
       "      <td>89.0</td>\n",
       "      <td>0.475</td>\n",
       "      <td>11.5</td>\n",
       "      <td>31.9</td>\n",
       "      <td>0.361</td>\n",
       "      <td>...</td>\n",
       "      <td>10.4</td>\n",
       "      <td>34.3</td>\n",
       "      <td>44.7</td>\n",
       "      <td>25.4</td>\n",
       "      <td>7.1</td>\n",
       "      <td>5.5</td>\n",
       "      <td>14.1</td>\n",
       "      <td>20.5</td>\n",
       "      <td>113.6</td>\n",
       "      <td>1</td>\n",
       "    </tr>\n",
       "    <tr>\n",
       "      <th>1</th>\n",
       "      <td>Atlanta Hawks</td>\n",
       "      <td>Eliminated in First Round</td>\n",
       "      <td>82.0</td>\n",
       "      <td>19705.0</td>\n",
       "      <td>42.4</td>\n",
       "      <td>90.3</td>\n",
       "      <td>0.470</td>\n",
       "      <td>13.2</td>\n",
       "      <td>35.2</td>\n",
       "      <td>0.374</td>\n",
       "      <td>...</td>\n",
       "      <td>10.3</td>\n",
       "      <td>34.7</td>\n",
       "      <td>45.0</td>\n",
       "      <td>25.2</td>\n",
       "      <td>7.3</td>\n",
       "      <td>4.3</td>\n",
       "      <td>12.1</td>\n",
       "      <td>19.1</td>\n",
       "      <td>116.5</td>\n",
       "      <td>1</td>\n",
       "    </tr>\n",
       "    <tr>\n",
       "      <th>2</th>\n",
       "      <td>Chicago Bulls</td>\n",
       "      <td>Eliminated in First Round</td>\n",
       "      <td>82.0</td>\n",
       "      <td>19730.0</td>\n",
       "      <td>42.3</td>\n",
       "      <td>88.2</td>\n",
       "      <td>0.480</td>\n",
       "      <td>10.8</td>\n",
       "      <td>29.3</td>\n",
       "      <td>0.369</td>\n",
       "      <td>...</td>\n",
       "      <td>8.8</td>\n",
       "      <td>34.2</td>\n",
       "      <td>42.9</td>\n",
       "      <td>24.2</td>\n",
       "      <td>7.2</td>\n",
       "      <td>4.2</td>\n",
       "      <td>13.0</td>\n",
       "      <td>19.1</td>\n",
       "      <td>113.2</td>\n",
       "      <td>1</td>\n",
       "    </tr>\n",
       "    <tr>\n",
       "      <th>3</th>\n",
       "      <td>Toronto Raptors</td>\n",
       "      <td>Eliminated in First Round</td>\n",
       "      <td>82.0</td>\n",
       "      <td>19855.0</td>\n",
       "      <td>41.9</td>\n",
       "      <td>94.3</td>\n",
       "      <td>0.445</td>\n",
       "      <td>12.3</td>\n",
       "      <td>35.3</td>\n",
       "      <td>0.349</td>\n",
       "      <td>...</td>\n",
       "      <td>13.8</td>\n",
       "      <td>33.0</td>\n",
       "      <td>46.8</td>\n",
       "      <td>22.8</td>\n",
       "      <td>9.3</td>\n",
       "      <td>4.7</td>\n",
       "      <td>12.9</td>\n",
       "      <td>20.2</td>\n",
       "      <td>112.9</td>\n",
       "      <td>1</td>\n",
       "    </tr>\n",
       "    <tr>\n",
       "      <th>4</th>\n",
       "      <td>Utah Jazz</td>\n",
       "      <td>Eliminated in First Round</td>\n",
       "      <td>82.0</td>\n",
       "      <td>19730.0</td>\n",
       "      <td>41.7</td>\n",
       "      <td>88.5</td>\n",
       "      <td>0.471</td>\n",
       "      <td>14.9</td>\n",
       "      <td>41.4</td>\n",
       "      <td>0.360</td>\n",
       "      <td>...</td>\n",
       "      <td>11.1</td>\n",
       "      <td>36.5</td>\n",
       "      <td>47.6</td>\n",
       "      <td>23.0</td>\n",
       "      <td>7.4</td>\n",
       "      <td>5.0</td>\n",
       "      <td>14.4</td>\n",
       "      <td>19.4</td>\n",
       "      <td>116.7</td>\n",
       "      <td>1</td>\n",
       "    </tr>\n",
       "  </tbody>\n",
       "</table>\n",
       "<p>5 rows × 26 columns</p>\n",
       "</div>"
      ],
      "text/plain": [
       "              Team             Season Success  Games Played       MP    FG  \\\n",
       "0    Brooklyn Nets  Eliminated in First Round          82.0  19755.0  42.2   \n",
       "1    Atlanta Hawks  Eliminated in First Round          82.0  19705.0  42.4   \n",
       "2    Chicago Bulls  Eliminated in First Round          82.0  19730.0  42.3   \n",
       "3  Toronto Raptors  Eliminated in First Round          82.0  19855.0  41.9   \n",
       "4        Utah Jazz  Eliminated in First Round          82.0  19730.0  41.7   \n",
       "\n",
       "    FGA    FG%    3P   3PA    3P%  ...   ORB   DRB   TRB   AST  STL  BLK  \\\n",
       "0  89.0  0.475  11.5  31.9  0.361  ...  10.4  34.3  44.7  25.4  7.1  5.5   \n",
       "1  90.3  0.470  13.2  35.2  0.374  ...  10.3  34.7  45.0  25.2  7.3  4.3   \n",
       "2  88.2  0.480  10.8  29.3  0.369  ...   8.8  34.2  42.9  24.2  7.2  4.2   \n",
       "3  94.3  0.445  12.3  35.3  0.349  ...  13.8  33.0  46.8  22.8  9.3  4.7   \n",
       "4  88.5  0.471  14.9  41.4  0.360  ...  11.1  36.5  47.6  23.0  7.4  5.0   \n",
       "\n",
       "    TOV    PF    PTS  Playoffs  \n",
       "0  14.1  20.5  113.6         1  \n",
       "1  12.1  19.1  116.5         1  \n",
       "2  13.0  19.1  113.2         1  \n",
       "3  12.9  20.2  112.9         1  \n",
       "4  14.4  19.4  116.7         1  \n",
       "\n",
       "[5 rows x 26 columns]"
      ]
     },
     "execution_count": 3,
     "metadata": {},
     "output_type": "execute_result"
    }
   ],
   "source": [
    "df_cleaned = pd.read_csv(\"new_merged_df.csv\")\n",
    "df_cleaned.head(5)"
   ]
  },
  {
   "cell_type": "code",
   "execution_count": 4,
   "id": "a707cbb6",
   "metadata": {
    "scrolled": true
   },
   "outputs": [
    {
     "name": "stdout",
     "output_type": "stream",
     "text": [
      "Index(['Team', 'Season Success', 'Games Played', 'MP', 'FG', 'FGA', 'FG%',\n",
      "       '3P', '3PA', '3P%', '2P', '2PA', '2P%', 'FT', 'FTA', 'FT%', 'ORB',\n",
      "       'DRB', 'TRB', 'AST', 'STL', 'BLK', 'TOV', 'PF', 'PTS', 'Playoffs'],\n",
      "      dtype='object')\n"
     ]
    }
   ],
   "source": [
    "print(df_cleaned.columns)"
   ]
  },
  {
   "cell_type": "code",
   "execution_count": 6,
   "id": "90e8005c",
   "metadata": {
    "scrolled": false
   },
   "outputs": [
    {
     "name": "stderr",
     "output_type": "stream",
     "text": [
      "C:\\Users\\gabri\\miniconda3\\envs\\100days\\lib\\site-packages\\sklearn\\cluster\\_kmeans.py:870: FutureWarning: The default value of `n_init` will change from 10 to 'auto' in 1.4. Set the value of `n_init` explicitly to suppress the warning\n",
      "  warnings.warn(\n",
      "C:\\Users\\gabri\\miniconda3\\envs\\100days\\lib\\site-packages\\sklearn\\cluster\\_kmeans.py:1382: UserWarning: KMeans is known to have a memory leak on Windows with MKL, when there are less chunks than available threads. You can avoid it by setting the environment variable OMP_NUM_THREADS=1.\n",
      "  warnings.warn(\n"
     ]
    }
   ],
   "source": [
    "import pandas as pd\n",
    "from sklearn.cluster import KMeans\n",
    "\n",
    "# Select the numerical columns for clustering\n",
    "numerical_columns = ['Games Played', 'MP', 'FG', 'FGA', 'FG%', '3P', '3PA', '3P%', '2P', '2PA', '2P%',\n",
    "                     'FT', 'FTA', 'FT%', 'ORB', 'DRB', 'TRB', 'AST', 'STL', 'BLK', 'TOV', 'PF', 'PTS']\n",
    "\n",
    "# Create a new DataFrame with only the numerical columns\n",
    "df_numerical = df_cleaned[numerical_columns]\n",
    "\n",
    "# Create an instance of the KMeans model with the desired number of clusters\n",
    "kmeans = KMeans(n_clusters=3)\n",
    "\n",
    "# Fit the model to the numerical data\n",
    "kmeans.fit(df_numerical)\n",
    "\n",
    "# Get the cluster labels for each data point\n",
    "cluster_labels = kmeans.labels_\n",
    "\n",
    "# Add the cluster labels to the original DataFrame\n",
    "df_cleaned['Cluster'] = cluster_labels\n"
   ]
  },
  {
   "cell_type": "code",
   "execution_count": 7,
   "id": "a2491292",
   "metadata": {
    "scrolled": false
   },
   "outputs": [
    {
     "name": "stdout",
     "output_type": "stream",
     "text": [
      "                      Team  Cluster\n",
      "0            Brooklyn Nets        1\n",
      "1            Atlanta Hawks        1\n",
      "2            Chicago Bulls        1\n",
      "3          Toronto Raptors        2\n",
      "4                Utah Jazz        1\n",
      "5           Denver Nuggets        0\n",
      "6   Minnesota Timberwolves        0\n",
      "7     New Orleans Pelicans        1\n",
      "8          Milwaukee Bucks        1\n",
      "9       Philadelphia 76ers        0\n",
      "10            Phoenix Suns        1\n",
      "11       Memphis Grizzlies        0\n",
      "12              Miami Heat        2\n",
      "13        Dallas Mavericks        1\n",
      "14          Boston Celtics        2\n",
      "15   Golden State Warriors        1\n",
      "16       Charlotte Hornets        2\n",
      "17        Sacramento Kings        0\n",
      "18           Orlando Magic        0\n",
      "19  Portland Trail Blazers        1\n",
      "20         Houston Rockets        1\n",
      "21      Los Angeles Lakers        2\n",
      "22          Indiana Pacers        2\n",
      "23       San Antonio Spurs        0\n",
      "24         Detroit Pistons        0\n",
      "25         New York Knicks        0\n",
      "26    Los Angeles Clippers        0\n",
      "27     Cleveland Cavaliers        1\n",
      "28      Washington Wizards        0\n",
      "29   Oklahoma City Thunder        0\n"
     ]
    }
   ],
   "source": [
    "print(df_cleaned[['Team', 'Cluster']])\n"
   ]
  },
  {
   "cell_type": "code",
   "execution_count": 8,
   "id": "5422fec2",
   "metadata": {},
   "outputs": [
    {
     "data": {
      "image/png": "[encoded data removed]",
      "text/plain": [
       "<Figure size 640x480 with 1 Axes>"
      ]
     },
     "metadata": {},
     "output_type": "display_data"
    }
   ],
   "source": [
    "import matplotlib.pyplot as plt\n",
    "\n",
    "# Assign the cluster labels\n",
    "cluster_labels = df_cleaned['Cluster']\n",
    "\n",
    "# Create a scatter plot\n",
    "plt.scatter(df_cleaned['Games Played'], df_cleaned['PTS'], c=cluster_labels)\n",
    "\n",
    "# Set the title and labels\n",
    "plt.title('K-means Clustering Results')\n",
    "plt.xlabel('Games Played')\n",
    "plt.ylabel('PTS')\n",
    "\n",
    "# Display the plot\n",
    "plt.show()\n"
   ]
  }
 ],
 "metadata": {
  "kernelspec": {
   "display_name": "Python 3 (ipykernel)",
   "language": "python",
   "name": "python3"
  },
  "language_info": {
   "codemirror_mode": {
    "name": "ipython",
    "version": 3
   },
   "file_extension": ".py",
   "mimetype": "text/x-python",
   "name": "python",
   "nbconvert_exporter": "python",
   "pygments_lexer": "ipython3",
   "version": "3.10.9"
  }
 },
 "nbformat": 4,
 "nbformat_minor": 5
}

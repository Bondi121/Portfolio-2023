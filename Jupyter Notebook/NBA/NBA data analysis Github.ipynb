{
 "cells": [
  {
   "cell_type": "code",
   "execution_count": 1,
   "id": "803515b5",
   "metadata": {},
   "outputs": [],
   "source": [
    "import chart_studio.plotly as py\n",
    "import pandas as pd\n",
    "import seaborn as sns\n",
    "import matplotlib.pyplot as plt\n",
    "import plotly.express as px\n",
    "import plotly.graph_objs as go \n",
    "from plotly.offline import download_plotlyjs, init_notebook_mode, plot, iplot\n",
    "from plotly.subplots import make_subplots\n",
    "\n",
    "df_east = pd.read_csv('eastern_conference.csv')\n",
    "df_west = pd.read_csv('western_conference.csv')"
   ]
  },
  {
   "cell_type": "code",
   "execution_count": 2,
   "id": "f4ecc9fb",
   "metadata": {
    "scrolled": false
   },
   "outputs": [
    {
     "data": {
      "text/html": [
       "<div>\n",
       "<style scoped>\n",
       "    .dataframe tbody tr th:only-of-type {\n",
       "        vertical-align: middle;\n",
       "    }\n",
       "\n",
       "    .dataframe tbody tr th {\n",
       "        vertical-align: top;\n",
       "    }\n",
       "\n",
       "    .dataframe thead th {\n",
       "        text-align: right;\n",
       "    }\n",
       "</style>\n",
       "<table border=\"1\" class=\"dataframe\">\n",
       "  <thead>\n",
       "    <tr style=\"text-align: right;\">\n",
       "      <th></th>\n",
       "      <th>Eastern Conference</th>\n",
       "      <th>W</th>\n",
       "      <th>L</th>\n",
       "      <th>W/L%</th>\n",
       "      <th>GB</th>\n",
       "      <th>PS/G</th>\n",
       "      <th>PA/G</th>\n",
       "      <th>SRS</th>\n",
       "    </tr>\n",
       "  </thead>\n",
       "  <tbody>\n",
       "    <tr>\n",
       "      <th>0</th>\n",
       "      <td>Miami Heat*</td>\n",
       "      <td>53</td>\n",
       "      <td>29</td>\n",
       "      <td>0.646</td>\n",
       "      <td>0.0</td>\n",
       "      <td>110.0</td>\n",
       "      <td>105.6</td>\n",
       "      <td>4.23</td>\n",
       "    </tr>\n",
       "    <tr>\n",
       "      <th>1</th>\n",
       "      <td>Boston Celtics*</td>\n",
       "      <td>51</td>\n",
       "      <td>31</td>\n",
       "      <td>0.622</td>\n",
       "      <td>2.0</td>\n",
       "      <td>111.8</td>\n",
       "      <td>104.5</td>\n",
       "      <td>7.02</td>\n",
       "    </tr>\n",
       "    <tr>\n",
       "      <th>2</th>\n",
       "      <td>Milwaukee Bucks*</td>\n",
       "      <td>51</td>\n",
       "      <td>31</td>\n",
       "      <td>0.622</td>\n",
       "      <td>2.0</td>\n",
       "      <td>115.5</td>\n",
       "      <td>112.1</td>\n",
       "      <td>3.22</td>\n",
       "    </tr>\n",
       "    <tr>\n",
       "      <th>3</th>\n",
       "      <td>Philadelphia 76ers*</td>\n",
       "      <td>51</td>\n",
       "      <td>31</td>\n",
       "      <td>0.622</td>\n",
       "      <td>2.0</td>\n",
       "      <td>109.9</td>\n",
       "      <td>107.3</td>\n",
       "      <td>2.57</td>\n",
       "    </tr>\n",
       "    <tr>\n",
       "      <th>4</th>\n",
       "      <td>Toronto Raptors*</td>\n",
       "      <td>48</td>\n",
       "      <td>34</td>\n",
       "      <td>0.585</td>\n",
       "      <td>5.0</td>\n",
       "      <td>109.4</td>\n",
       "      <td>107.1</td>\n",
       "      <td>2.38</td>\n",
       "    </tr>\n",
       "  </tbody>\n",
       "</table>\n",
       "</div>"
      ],
      "text/plain": [
       "    Eastern Conference   W   L   W/L%   GB   PS/G   PA/G   SRS\n",
       "0          Miami Heat*  53  29  0.646  0.0  110.0  105.6  4.23\n",
       "1      Boston Celtics*  51  31  0.622  2.0  111.8  104.5  7.02\n",
       "2     Milwaukee Bucks*  51  31  0.622  2.0  115.5  112.1  3.22\n",
       "3  Philadelphia 76ers*  51  31  0.622  2.0  109.9  107.3  2.57\n",
       "4     Toronto Raptors*  48  34  0.585  5.0  109.4  107.1  2.38"
      ]
     },
     "execution_count": 2,
     "metadata": {},
     "output_type": "execute_result"
    }
   ],
   "source": [
    "df_east.head()"
   ]
  },
  {
   "cell_type": "code",
   "execution_count": 3,
   "id": "17d99892",
   "metadata": {
    "scrolled": true
   },
   "outputs": [
    {
     "data": {
      "text/html": [
       "<div>\n",
       "<style scoped>\n",
       "    .dataframe tbody tr th:only-of-type {\n",
       "        vertical-align: middle;\n",
       "    }\n",
       "\n",
       "    .dataframe tbody tr th {\n",
       "        vertical-align: top;\n",
       "    }\n",
       "\n",
       "    .dataframe thead th {\n",
       "        text-align: right;\n",
       "    }\n",
       "</style>\n",
       "<table border=\"1\" class=\"dataframe\">\n",
       "  <thead>\n",
       "    <tr style=\"text-align: right;\">\n",
       "      <th></th>\n",
       "      <th>Western Conference</th>\n",
       "      <th>W</th>\n",
       "      <th>L</th>\n",
       "      <th>W/L%</th>\n",
       "      <th>GB</th>\n",
       "      <th>PS/G</th>\n",
       "      <th>PA/G</th>\n",
       "      <th>SRS</th>\n",
       "    </tr>\n",
       "  </thead>\n",
       "  <tbody>\n",
       "    <tr>\n",
       "      <th>0</th>\n",
       "      <td>Phoenix Suns*</td>\n",
       "      <td>64</td>\n",
       "      <td>18</td>\n",
       "      <td>0.780</td>\n",
       "      <td>0.0</td>\n",
       "      <td>114.8</td>\n",
       "      <td>107.3</td>\n",
       "      <td>6.94</td>\n",
       "    </tr>\n",
       "    <tr>\n",
       "      <th>1</th>\n",
       "      <td>Memphis Grizzlies*</td>\n",
       "      <td>56</td>\n",
       "      <td>26</td>\n",
       "      <td>0.683</td>\n",
       "      <td>8.0</td>\n",
       "      <td>115.6</td>\n",
       "      <td>109.9</td>\n",
       "      <td>5.37</td>\n",
       "    </tr>\n",
       "    <tr>\n",
       "      <th>2</th>\n",
       "      <td>Golden State Warriors*</td>\n",
       "      <td>53</td>\n",
       "      <td>29</td>\n",
       "      <td>0.646</td>\n",
       "      <td>11.0</td>\n",
       "      <td>111.0</td>\n",
       "      <td>105.5</td>\n",
       "      <td>5.52</td>\n",
       "    </tr>\n",
       "    <tr>\n",
       "      <th>3</th>\n",
       "      <td>Dallas Mavericks*</td>\n",
       "      <td>52</td>\n",
       "      <td>30</td>\n",
       "      <td>0.634</td>\n",
       "      <td>12.0</td>\n",
       "      <td>108.0</td>\n",
       "      <td>104.7</td>\n",
       "      <td>3.12</td>\n",
       "    </tr>\n",
       "    <tr>\n",
       "      <th>4</th>\n",
       "      <td>Utah Jazz*</td>\n",
       "      <td>49</td>\n",
       "      <td>33</td>\n",
       "      <td>0.598</td>\n",
       "      <td>15.0</td>\n",
       "      <td>113.6</td>\n",
       "      <td>107.6</td>\n",
       "      <td>5.67</td>\n",
       "    </tr>\n",
       "  </tbody>\n",
       "</table>\n",
       "</div>"
      ],
      "text/plain": [
       "       Western Conference   W   L   W/L%    GB   PS/G   PA/G   SRS\n",
       "0           Phoenix Suns*  64  18  0.780   0.0  114.8  107.3  6.94\n",
       "1      Memphis Grizzlies*  56  26  0.683   8.0  115.6  109.9  5.37\n",
       "2  Golden State Warriors*  53  29  0.646  11.0  111.0  105.5  5.52\n",
       "3       Dallas Mavericks*  52  30  0.634  12.0  108.0  104.7  3.12\n",
       "4              Utah Jazz*  49  33  0.598  15.0  113.6  107.6  5.67"
      ]
     },
     "execution_count": 3,
     "metadata": {},
     "output_type": "execute_result"
    }
   ],
   "source": [
    "df_west.head()"
   ]
  },
  {
   "cell_type": "code",
   "execution_count": 5,
   "id": "1efab576",
   "metadata": {
    "scrolled": false
   },
   "outputs": [
    {
     "name": "stdout",
     "output_type": "stream",
     "text": [
      "     Eastern Conference   W   L   W/L%    GB   PS/G   PA/G   SRS State\n",
      "0           Miami Heat*  53  29  0.646   0.0  110.0  105.6  4.23    FL\n",
      "1       Boston Celtics*  51  31  0.622   2.0  111.8  104.5  7.02    MA\n",
      "2      Milwaukee Bucks*  51  31  0.622   2.0  115.5  112.1  3.22    WI\n",
      "3   Philadelphia 76ers*  51  31  0.622   2.0  109.9  107.3  2.57    PA\n",
      "4      Toronto Raptors*  48  34  0.585   5.0  109.4  107.1  2.38    ON\n",
      "5        Chicago Bulls*  46  36  0.561   7.0  111.6  112.0 -0.38    IL\n",
      "6        Brooklyn Nets*  44  38  0.537   9.0  112.9  112.1  0.82    NY\n",
      "7   Cleveland Cavaliers  44  38  0.537   9.0  107.8  105.7  2.04    OH\n",
      "8        Atlanta Hawks*  43  39  0.524  10.0  113.9  112.4  1.55    GA\n",
      "9     Charlotte Hornets  43  39  0.524  10.0  115.3  114.9  0.53    NC\n",
      "10      New York Knicks  37  45  0.451  16.0  106.5  106.6 -0.01    NY\n",
      "11   Washington Wizards  35  47  0.427  18.0  108.6  112.0 -3.23    DC\n",
      "12       Indiana Pacers  25  57  0.305  28.0  111.5  114.9 -3.26    IN\n",
      "13      Detroit Pistons  23  59  0.280  30.0  104.8  112.5 -7.36    MI\n",
      "14        Orlando Magic  22  60  0.268  31.0  104.2  112.2 -7.67    FL\n"
     ]
    }
   ],
   "source": [
    "state_dict = {\n",
    "    \"Miami Heat*\": \"FL\",\n",
    "    \"Boston Celtics*\": \"MA\",\n",
    "    \"Milwaukee Bucks*\": \"WI\",\n",
    "    \"Philadelphia 76ers*\": \"PA\",\n",
    "    \"Toronto Raptors*\": \"ON\",\n",
    "    \"Chicago Bulls*\": \"IL\",\n",
    "    \"Brooklyn Nets*\": \"NY\",\n",
    "    \"Cleveland Cavaliers\": \"OH\",\n",
    "    \"Atlanta Hawks*\": \"GA\",\n",
    "    \"Charlotte Hornets\": \"NC\",\n",
    "    \"New York Knicks\": \"NY\",\n",
    "    \"Washington Wizards\": \"DC\",\n",
    "    \"Indiana Pacers\": \"IN\",\n",
    "    \"Detroit Pistons\": \"MI\",\n",
    "    \"Orlando Magic\": \"FL\"\n",
    "}\n",
    "\n",
    "df_east[\"State\"] = df_east[\"Eastern Conference\"].map(state_dict)\n",
    "print(df_east)"
   ]
  },
  {
   "cell_type": "code",
   "execution_count": 6,
   "id": "58b45910",
   "metadata": {},
   "outputs": [
    {
     "name": "stdout",
     "output_type": "stream",
     "text": [
      "         Western Conference   W State\n",
      "0             Phoenix Suns*  64    AZ\n",
      "1        Memphis Grizzlies*  56    TN\n",
      "2    Golden State Warriors*  53    CA\n",
      "3         Dallas Mavericks*  52    TX\n",
      "4                Utah Jazz*  49    UT\n",
      "5           Denver Nuggets*  48    CO\n",
      "6   Minnesota Timberwolves*  46    MN\n",
      "7      Los Angeles Clippers  42    CA\n",
      "8     New Orleans Pelicans*  36    LA\n",
      "9         San Antonio Spurs  34    TX\n",
      "10       Los Angeles Lakers  33    CA\n",
      "11         Sacramento Kings  30    CA\n",
      "12   Portland Trail Blazers  27    OR\n",
      "13    Oklahoma City Thunder  24    OK\n",
      "14          Houston Rockets  20    TX\n"
     ]
    }
   ],
   "source": [
    "state_dict = {\n",
    "    \"Phoenix Suns*\": \"AZ\",\n",
    "    \"Memphis Grizzlies*\": \"TN\",\n",
    "    \"Golden State Warriors*\": \"CA\",\n",
    "    \"Dallas Mavericks*\": \"TX\",\n",
    "    \"Utah Jazz*\": \"UT\",\n",
    "    \"Denver Nuggets*\": \"CO\",\n",
    "    \"Minnesota Timberwolves*\": \"MN\",\n",
    "    \"Los Angeles Clippers\": \"CA\",\n",
    "    \"New Orleans Pelicans*\": \"LA\",\n",
    "    \"San Antonio Spurs\": \"TX\",\n",
    "    \"Los Angeles Lakers\": \"CA\",\n",
    "    \"Sacramento Kings\": \"CA\",\n",
    "    \"Portland Trail Blazers\": \"OR\",\n",
    "    \"Oklahoma City Thunder\": \"OK\",\n",
    "    \"Houston Rockets\": \"TX\"\n",
    "}\n",
    "\n",
    "df_west = df_west.loc[:, ['Western Conference', 'W']]\n",
    "df_west[\"State\"] = df_west[\"Western Conference\"].map(state_dict)\n",
    "\n",
    "print(df_west)\n"
   ]
  },
  {
   "cell_type": "code",
   "execution_count": 8,
   "id": "2c4615a7",
   "metadata": {
    "scrolled": false
   },
   "outputs": [
    {
     "data": {
      "application/vnd.plotly.v1+json": {
       "config": {
        "plotlyServerURL": "https://plot.ly"
       },
       "data": [
        {
         "coloraxis": "coloraxis",
         "customdata": [
          [
           35,
           "Washington Wizards"
          ],
          [
           37.5,
           "Miami Heat*<br>Orlando Magic"
          ],
          [
           43,
           "Atlanta Hawks*"
          ],
          [
           46,
           "Chicago Bulls*"
          ],
          [
           25,
           "Indiana Pacers"
          ],
          [
           51,
           "Boston Celtics*"
          ],
          [
           23,
           "Detroit Pistons"
          ],
          [
           43,
           "Charlotte Hornets"
          ],
          [
           40.5,
           "Brooklyn Nets*<br>New York Knicks"
          ],
          [
           44,
           "Cleveland Cavaliers"
          ],
          [
           48,
           "Toronto Raptors*"
          ],
          [
           51,
           "Philadelphia 76ers*"
          ],
          [
           51,
           "Milwaukee Bucks*"
          ]
         ],
         "geo": "geo",
         "hovertemplate": "<b>%{hovertext}</b><br><br>State=%{location}<br>Average Wins per State=%{z:.2f}<br>Eastern Conference=%{customdata[1]}<extra></extra>",
         "hovertext": [
          "DC",
          "FL",
          "GA",
          "IL",
          "IN",
          "MA",
          "MI",
          "NC",
          "NY",
          "OH",
          "ON",
          "PA",
          "WI"
         ],
         "locationmode": "USA-states",
         "locations": [
          "DC",
          "FL",
          "GA",
          "IL",
          "IN",
          "MA",
          "MI",
          "NC",
          "NY",
          "OH",
          "ON",
          "PA",
          "WI"
         ],
         "name": "",
         "type": "choropleth",
         "z": [
          35,
          37.5,
          43,
          46,
          25,
          51,
          23,
          43,
          40.5,
          44,
          48,
          51,
          51
         ]
        },
        {
         "coloraxis": "coloraxis",
         "customdata": [
          [
           64,
           "Phoenix Suns*"
          ],
          [
           39.5,
           "Golden State Warriors*<br>Los Angeles Clippers<br>Los Angeles Lakers<br>Sacramento Kings"
          ],
          [
           48,
           "Denver Nuggets*"
          ],
          [
           36,
           "New Orleans Pelicans*"
          ],
          [
           46,
           "Minnesota Timberwolves*"
          ],
          [
           24,
           "Oklahoma City Thunder"
          ],
          [
           27,
           "Portland Trail Blazers"
          ],
          [
           56,
           "Memphis Grizzlies*"
          ],
          [
           35.333333333333336,
           "Dallas Mavericks*<br>San Antonio Spurs<br>Houston Rockets"
          ],
          [
           49,
           "Utah Jazz*"
          ]
         ],
         "geo": "geo",
         "hovertemplate": "<b>%{hovertext}</b><br><br>State=%{location}<br>Average Wins per State=%{z:.2f}<br>Western Conference=%{customdata[1]}<extra></extra>",
         "hovertext": [
          "AZ",
          "CA",
          "CO",
          "LA",
          "MN",
          "OK",
          "OR",
          "TN",
          "TX",
          "UT"
         ],
         "locationmode": "USA-states",
         "locations": [
          "AZ",
          "CA",
          "CO",
          "LA",
          "MN",
          "OK",
          "OR",
          "TN",
          "TX",
          "UT"
         ],
         "name": "",
         "type": "choropleth",
         "z": [
          64,
          39.5,
          48,
          36,
          46,
          24,
          27,
          56,
          35.333333333333336,
          49
         ]
        }
       ],
       "layout": {
        "geo": {
         "projection": {
          "type": "albers usa"
         },
         "scope": "usa"
        },
        "height": 600,
        "margin": {
         "b": 0,
         "l": 0,
         "r": 0,
         "t": 80
        },
        "template": {
         "data": {
          "bar": [
           {
            "error_x": {
             "color": "#f2f5fa"
            },
            "error_y": {
             "color": "#f2f5fa"
            },
            "marker": {
             "line": {
              "color": "rgb(17,17,17)",
              "width": 0.5
             },
             "pattern": {
              "fillmode": "overlay",
              "size": 10,
              "solidity": 0.2
             }
            },
            "type": "bar"
           }
          ],
          "barpolar": [
           {
            "marker": {
             "line": {
              "color": "rgb(17,17,17)",
              "width": 0.5
             },
             "pattern": {
              "fillmode": "overlay",
              "size": 10,
              "solidity": 0.2
             }
            },
            "type": "barpolar"
           }
          ],
          "carpet": [
           {
            "aaxis": {
             "endlinecolor": "#A2B1C6",
             "gridcolor": "#506784",
             "linecolor": "#506784",
             "minorgridcolor": "#506784",
             "startlinecolor": "#A2B1C6"
            },
            "baxis": {
             "endlinecolor": "#A2B1C6",
             "gridcolor": "#506784",
             "linecolor": "#506784",
             "minorgridcolor": "#506784",
             "startlinecolor": "#A2B1C6"
            },
            "type": "carpet"
           }
          ],
          "choropleth": [
           {
            "colorbar": {
             "outlinewidth": 0,
             "ticks": ""
            },
            "type": "choropleth"
           }
          ],
          "contour": [
           {
            "colorbar": {
             "outlinewidth": 0,
             "ticks": ""
            },
            "colorscale": [
             [
              0,
              "#0d0887"
             ],
             [
              0.1111111111111111,
              "#46039f"
             ],
             [
              0.2222222222222222,
              "#7201a8"
             ],
             [
              0.3333333333333333,
              "#9c179e"
             ],
             [
              0.4444444444444444,
              "#bd3786"
             ],
             [
              0.5555555555555556,
              "#d8576b"
             ],
             [
              0.6666666666666666,
              "#ed7953"
             ],
             [
              0.7777777777777778,
              "#fb9f3a"
             ],
             [
              0.8888888888888888,
              "#fdca26"
             ],
             [
              1,
              "#f0f921"
             ]
            ],
            "type": "contour"
           }
          ],
          "contourcarpet": [
           {
            "colorbar": {
             "outlinewidth": 0,
             "ticks": ""
            },
            "type": "contourcarpet"
           }
          ],
          "heatmap": [
           {
            "colorbar": {
             "outlinewidth": 0,
             "ticks": ""
            },
            "colorscale": [
             [
              0,
              "#0d0887"
             ],
             [
              0.1111111111111111,
              "#46039f"
             ],
             [
              0.2222222222222222,
              "#7201a8"
             ],
             [
              0.3333333333333333,
              "#9c179e"
             ],
             [
              0.4444444444444444,
              "#bd3786"
             ],
             [
              0.5555555555555556,
              "#d8576b"
             ],
             [
              0.6666666666666666,
              "#ed7953"
             ],
             [
              0.7777777777777778,
              "#fb9f3a"
             ],
             [
              0.8888888888888888,
              "#fdca26"
             ],
             [
              1,
              "#f0f921"
             ]
            ],
            "type": "heatmap"
           }
          ],
          "heatmapgl": [
           {
            "colorbar": {
             "outlinewidth": 0,
             "ticks": ""
            },
            "colorscale": [
             [
              0,
              "#0d0887"
             ],
             [
              0.1111111111111111,
              "#46039f"
             ],
             [
              0.2222222222222222,
              "#7201a8"
             ],
             [
              0.3333333333333333,
              "#9c179e"
             ],
             [
              0.4444444444444444,
              "#bd3786"
             ],
             [
              0.5555555555555556,
              "#d8576b"
             ],
             [
              0.6666666666666666,
              "#ed7953"
             ],
             [
              0.7777777777777778,
              "#fb9f3a"
             ],
             [
              0.8888888888888888,
              "#fdca26"
             ],
             [
              1,
              "#f0f921"
             ]
            ],
            "type": "heatmapgl"
           }
          ],
          "histogram": [
           {
            "marker": {
             "pattern": {
              "fillmode": "overlay",
              "size": 10,
              "solidity": 0.2
             }
            },
            "type": "histogram"
           }
          ],
          "histogram2d": [
           {
            "colorbar": {
             "outlinewidth": 0,
             "ticks": ""
            },
            "colorscale": [
             [
              0,
              "#0d0887"
             ],
             [
              0.1111111111111111,
              "#46039f"
             ],
             [
              0.2222222222222222,
              "#7201a8"
             ],
             [
              0.3333333333333333,
              "#9c179e"
             ],
             [
              0.4444444444444444,
              "#bd3786"
             ],
             [
              0.5555555555555556,
              "#d8576b"
             ],
             [
              0.6666666666666666,
              "#ed7953"
             ],
             [
              0.7777777777777778,
              "#fb9f3a"
             ],
             [
              0.8888888888888888,
              "#fdca26"
             ],
             [
              1,
              "#f0f921"
             ]
            ],
            "type": "histogram2d"
           }
          ],
          "histogram2dcontour": [
           {
            "colorbar": {
             "outlinewidth": 0,
             "ticks": ""
            },
            "colorscale": [
             [
              0,
              "#0d0887"
             ],
             [
              0.1111111111111111,
              "#46039f"
             ],
             [
              0.2222222222222222,
              "#7201a8"
             ],
             [
              0.3333333333333333,
              "#9c179e"
             ],
             [
              0.4444444444444444,
              "#bd3786"
             ],
             [
              0.5555555555555556,
              "#d8576b"
             ],
             [
              0.6666666666666666,
              "#ed7953"
             ],
             [
              0.7777777777777778,
              "#fb9f3a"
             ],
             [
              0.8888888888888888,
              "#fdca26"
             ],
             [
              1,
              "#f0f921"
             ]
            ],
            "type": "histogram2dcontour"
           }
          ],
          "mesh3d": [
           {
            "colorbar": {
             "outlinewidth": 0,
             "ticks": ""
            },
            "type": "mesh3d"
           }
          ],
          "parcoords": [
           {
            "line": {
             "colorbar": {
              "outlinewidth": 0,
              "ticks": ""
             }
            },
            "type": "parcoords"
           }
          ],
          "pie": [
           {
            "automargin": true,
            "type": "pie"
           }
          ],
          "scatter": [
           {
            "marker": {
             "line": {
              "color": "#283442"
             }
            },
            "type": "scatter"
           }
          ],
          "scatter3d": [
           {
            "line": {
             "colorbar": {
              "outlinewidth": 0,
              "ticks": ""
             }
            },
            "marker": {
             "colorbar": {
              "outlinewidth": 0,
              "ticks": ""
             }
            },
            "type": "scatter3d"
           }
          ],
          "scattercarpet": [
           {
            "marker": {
             "colorbar": {
              "outlinewidth": 0,
              "ticks": ""
             }
            },
            "type": "scattercarpet"
           }
          ],
          "scattergeo": [
           {
            "marker": {
             "colorbar": {
              "outlinewidth": 0,
              "ticks": ""
             }
            },
            "type": "scattergeo"
           }
          ],
          "scattergl": [
           {
            "marker": {
             "line": {
              "color": "#283442"
             }
            },
            "type": "scattergl"
           }
          ],
          "scattermapbox": [
           {
            "marker": {
             "colorbar": {
              "outlinewidth": 0,
              "ticks": ""
             }
            },
            "type": "scattermapbox"
           }
          ],
          "scatterpolar": [
           {
            "marker": {
             "colorbar": {
              "outlinewidth": 0,
              "ticks": ""
             }
            },
            "type": "scatterpolar"
           }
          ],
          "scatterpolargl": [
           {
            "marker": {
             "colorbar": {
              "outlinewidth": 0,
              "ticks": ""
             }
            },
            "type": "scatterpolargl"
           }
          ],
          "scatterternary": [
           {
            "marker": {
             "colorbar": {
              "outlinewidth": 0,
              "ticks": ""
             }
            },
            "type": "scatterternary"
           }
          ],
          "surface": [
           {
            "colorbar": {
             "outlinewidth": 0,
             "ticks": ""
            },
            "colorscale": [
             [
              0,
              "#0d0887"
             ],
             [
              0.1111111111111111,
              "#46039f"
             ],
             [
              0.2222222222222222,
              "#7201a8"
             ],
             [
              0.3333333333333333,
              "#9c179e"
             ],
             [
              0.4444444444444444,
              "#bd3786"
             ],
             [
              0.5555555555555556,
              "#d8576b"
             ],
             [
              0.6666666666666666,
              "#ed7953"
             ],
             [
              0.7777777777777778,
              "#fb9f3a"
             ],
             [
              0.8888888888888888,
              "#fdca26"
             ],
             [
              1,
              "#f0f921"
             ]
            ],
            "type": "surface"
           }
          ],
          "table": [
           {
            "cells": {
             "fill": {
              "color": "#506784"
             },
             "line": {
              "color": "rgb(17,17,17)"
             }
            },
            "header": {
             "fill": {
              "color": "#2a3f5f"
             },
             "line": {
              "color": "rgb(17,17,17)"
             }
            },
            "type": "table"
           }
          ]
         },
         "layout": {
          "annotationdefaults": {
           "arrowcolor": "#f2f5fa",
           "arrowhead": 0,
           "arrowwidth": 1
          },
          "autotypenumbers": "strict",
          "coloraxis": {
           "colorbar": {
            "outlinewidth": 0,
            "ticks": ""
           }
          },
          "colorscale": {
           "diverging": [
            [
             0,
             "#8e0152"
            ],
            [
             0.1,
             "#c51b7d"
            ],
            [
             0.2,
             "#de77ae"
            ],
            [
             0.3,
             "#f1b6da"
            ],
            [
             0.4,
             "#fde0ef"
            ],
            [
             0.5,
             "#f7f7f7"
            ],
            [
             0.6,
             "#e6f5d0"
            ],
            [
             0.7,
             "#b8e186"
            ],
            [
             0.8,
             "#7fbc41"
            ],
            [
             0.9,
             "#4d9221"
            ],
            [
             1,
             "#276419"
            ]
           ],
           "sequential": [
            [
             0,
             "#0d0887"
            ],
            [
             0.1111111111111111,
             "#46039f"
            ],
            [
             0.2222222222222222,
             "#7201a8"
            ],
            [
             0.3333333333333333,
             "#9c179e"
            ],
            [
             0.4444444444444444,
             "#bd3786"
            ],
            [
             0.5555555555555556,
             "#d8576b"
            ],
            [
             0.6666666666666666,
             "#ed7953"
            ],
            [
             0.7777777777777778,
             "#fb9f3a"
            ],
            [
             0.8888888888888888,
             "#fdca26"
            ],
            [
             1,
             "#f0f921"
            ]
           ],
           "sequentialminus": [
            [
             0,
             "#0d0887"
            ],
            [
             0.1111111111111111,
             "#46039f"
            ],
            [
             0.2222222222222222,
             "#7201a8"
            ],
            [
             0.3333333333333333,
             "#9c179e"
            ],
            [
             0.4444444444444444,
             "#bd3786"
            ],
            [
             0.5555555555555556,
             "#d8576b"
            ],
            [
             0.6666666666666666,
             "#ed7953"
            ],
            [
             0.7777777777777778,
             "#fb9f3a"
            ],
            [
             0.8888888888888888,
             "#fdca26"
            ],
            [
             1,
             "#f0f921"
            ]
           ]
          },
          "colorway": [
           "#636efa",
           "#EF553B",
           "#00cc96",
           "#ab63fa",
           "#FFA15A",
           "#19d3f3",
           "#FF6692",
           "#B6E880",
           "#FF97FF",
           "#FECB52"
          ],
          "font": {
           "color": "#f2f5fa"
          },
          "geo": {
           "bgcolor": "rgb(17,17,17)",
           "lakecolor": "rgb(17,17,17)",
           "landcolor": "rgb(17,17,17)",
           "showlakes": true,
           "showland": true,
           "subunitcolor": "#506784"
          },
          "hoverlabel": {
           "align": "left"
          },
          "hovermode": "closest",
          "mapbox": {
           "style": "dark"
          },
          "paper_bgcolor": "rgb(17,17,17)",
          "plot_bgcolor": "rgb(17,17,17)",
          "polar": {
           "angularaxis": {
            "gridcolor": "#506784",
            "linecolor": "#506784",
            "ticks": ""
           },
           "bgcolor": "rgb(17,17,17)",
           "radialaxis": {
            "gridcolor": "#506784",
            "linecolor": "#506784",
            "ticks": ""
           }
          },
          "scene": {
           "xaxis": {
            "backgroundcolor": "rgb(17,17,17)",
            "gridcolor": "#506784",
            "gridwidth": 2,
            "linecolor": "#506784",
            "showbackground": true,
            "ticks": "",
            "zerolinecolor": "#C8D4E3"
           },
           "yaxis": {
            "backgroundcolor": "rgb(17,17,17)",
            "gridcolor": "#506784",
            "gridwidth": 2,
            "linecolor": "#506784",
            "showbackground": true,
            "ticks": "",
            "zerolinecolor": "#C8D4E3"
           },
           "zaxis": {
            "backgroundcolor": "rgb(17,17,17)",
            "gridcolor": "#506784",
            "gridwidth": 2,
            "linecolor": "#506784",
            "showbackground": true,
            "ticks": "",
            "zerolinecolor": "#C8D4E3"
           }
          },
          "shapedefaults": {
           "line": {
            "color": "#f2f5fa"
           }
          },
          "sliderdefaults": {
           "bgcolor": "#C8D4E3",
           "bordercolor": "rgb(17,17,17)",
           "borderwidth": 1,
           "tickwidth": 0
          },
          "ternary": {
           "aaxis": {
            "gridcolor": "#506784",
            "linecolor": "#506784",
            "ticks": ""
           },
           "baxis": {
            "gridcolor": "#506784",
            "linecolor": "#506784",
            "ticks": ""
           },
           "bgcolor": "rgb(17,17,17)",
           "caxis": {
            "gridcolor": "#506784",
            "linecolor": "#506784",
            "ticks": ""
           }
          },
          "title": {
           "x": 0.05
          },
          "updatemenudefaults": {
           "bgcolor": "#506784",
           "borderwidth": 0
          },
          "xaxis": {
           "automargin": true,
           "gridcolor": "#283442",
           "linecolor": "#506784",
           "ticks": "",
           "title": {
            "standoff": 15
           },
           "zerolinecolor": "#283442",
           "zerolinewidth": 2
          },
          "yaxis": {
           "automargin": true,
           "gridcolor": "#283442",
           "linecolor": "#506784",
           "ticks": "",
           "title": {
            "standoff": 15
           },
           "zerolinecolor": "#283442",
           "zerolinewidth": 2
          }
         }
        },
        "title": {
         "text": "NBA Teams by State"
        }
       }
      },
      "text/html": [
       "<div>                            <div id=\"61e2214c-c042-44f9-b3ac-fb250dd8c717\" class=\"plotly-graph-div\" style=\"height:600px; width:100%;\"></div>            <script type=\"text/javascript\">                require([\"plotly\"], function(Plotly) {                    window.PLOTLYENV=window.PLOTLYENV || {};                                    if (document.getElementById(\"61e2214c-c042-44f9-b3ac-fb250dd8c717\")) {                    Plotly.newPlot(                        \"61e2214c-c042-44f9-b3ac-fb250dd8c717\",                        [{\"coloraxis\":\"coloraxis\",\"customdata\":[[35.0,\"Washington Wizards\"],[37.5,\"Miami Heat*<br>Orlando Magic\"],[43.0,\"Atlanta Hawks*\"],[46.0,\"Chicago Bulls*\"],[25.0,\"Indiana Pacers\"],[51.0,\"Boston Celtics*\"],[23.0,\"Detroit Pistons\"],[43.0,\"Charlotte Hornets\"],[40.5,\"Brooklyn Nets*<br>New York Knicks\"],[44.0,\"Cleveland Cavaliers\"],[48.0,\"Toronto Raptors*\"],[51.0,\"Philadelphia 76ers*\"],[51.0,\"Milwaukee Bucks*\"]],\"geo\":\"geo\",\"hovertemplate\":\"<b>%{hovertext}</b><br><br>State=%{location}<br>Average Wins per State=%{z:.2f}<br>Eastern Conference=%{customdata[1]}<extra></extra>\",\"hovertext\":[\"DC\",\"FL\",\"GA\",\"IL\",\"IN\",\"MA\",\"MI\",\"NC\",\"NY\",\"OH\",\"ON\",\"PA\",\"WI\"],\"locationmode\":\"USA-states\",\"locations\":[\"DC\",\"FL\",\"GA\",\"IL\",\"IN\",\"MA\",\"MI\",\"NC\",\"NY\",\"OH\",\"ON\",\"PA\",\"WI\"],\"name\":\"\",\"z\":[35.0,37.5,43.0,46.0,25.0,51.0,23.0,43.0,40.5,44.0,48.0,51.0,51.0],\"type\":\"choropleth\"},{\"coloraxis\":\"coloraxis\",\"customdata\":[[64.0,\"Phoenix Suns*\"],[39.5,\"Golden State Warriors*<br>Los Angeles Clippers<br>Los Angeles Lakers<br>Sacramento Kings\"],[48.0,\"Denver Nuggets*\"],[36.0,\"New Orleans Pelicans*\"],[46.0,\"Minnesota Timberwolves*\"],[24.0,\"Oklahoma City Thunder\"],[27.0,\"Portland Trail Blazers\"],[56.0,\"Memphis Grizzlies*\"],[35.333333333333336,\"Dallas Mavericks*<br>San Antonio Spurs<br>Houston Rockets\"],[49.0,\"Utah Jazz*\"]],\"geo\":\"geo\",\"hovertemplate\":\"<b>%{hovertext}</b><br><br>State=%{location}<br>Average Wins per State=%{z:.2f}<br>Western Conference=%{customdata[1]}<extra></extra>\",\"hovertext\":[\"AZ\",\"CA\",\"CO\",\"LA\",\"MN\",\"OK\",\"OR\",\"TN\",\"TX\",\"UT\"],\"locationmode\":\"USA-states\",\"locations\":[\"AZ\",\"CA\",\"CO\",\"LA\",\"MN\",\"OK\",\"OR\",\"TN\",\"TX\",\"UT\"],\"name\":\"\",\"z\":[64.0,39.5,48.0,36.0,46.0,24.0,27.0,56.0,35.333333333333336,49.0],\"type\":\"choropleth\"}],                        {\"template\":{\"data\":{\"barpolar\":[{\"marker\":{\"line\":{\"color\":\"rgb(17,17,17)\",\"width\":0.5},\"pattern\":{\"fillmode\":\"overlay\",\"size\":10,\"solidity\":0.2}},\"type\":\"barpolar\"}],\"bar\":[{\"error_x\":{\"color\":\"#f2f5fa\"},\"error_y\":{\"color\":\"#f2f5fa\"},\"marker\":{\"line\":{\"color\":\"rgb(17,17,17)\",\"width\":0.5},\"pattern\":{\"fillmode\":\"overlay\",\"size\":10,\"solidity\":0.2}},\"type\":\"bar\"}],\"carpet\":[{\"aaxis\":{\"endlinecolor\":\"#A2B1C6\",\"gridcolor\":\"#506784\",\"linecolor\":\"#506784\",\"minorgridcolor\":\"#506784\",\"startlinecolor\":\"#A2B1C6\"},\"baxis\":{\"endlinecolor\":\"#A2B1C6\",\"gridcolor\":\"#506784\",\"linecolor\":\"#506784\",\"minorgridcolor\":\"#506784\",\"startlinecolor\":\"#A2B1C6\"},\"type\":\"carpet\"}],\"choropleth\":[{\"colorbar\":{\"outlinewidth\":0,\"ticks\":\"\"},\"type\":\"choropleth\"}],\"contourcarpet\":[{\"colorbar\":{\"outlinewidth\":0,\"ticks\":\"\"},\"type\":\"contourcarpet\"}],\"contour\":[{\"colorbar\":{\"outlinewidth\":0,\"ticks\":\"\"},\"colorscale\":[[0.0,\"#0d0887\"],[0.1111111111111111,\"#46039f\"],[0.2222222222222222,\"#7201a8\"],[0.3333333333333333,\"#9c179e\"],[0.4444444444444444,\"#bd3786\"],[0.5555555555555556,\"#d8576b\"],[0.6666666666666666,\"#ed7953\"],[0.7777777777777778,\"#fb9f3a\"],[0.8888888888888888,\"#fdca26\"],[1.0,\"#f0f921\"]],\"type\":\"contour\"}],\"heatmapgl\":[{\"colorbar\":{\"outlinewidth\":0,\"ticks\":\"\"},\"colorscale\":[[0.0,\"#0d0887\"],[0.1111111111111111,\"#46039f\"],[0.2222222222222222,\"#7201a8\"],[0.3333333333333333,\"#9c179e\"],[0.4444444444444444,\"#bd3786\"],[0.5555555555555556,\"#d8576b\"],[0.6666666666666666,\"#ed7953\"],[0.7777777777777778,\"#fb9f3a\"],[0.8888888888888888,\"#fdca26\"],[1.0,\"#f0f921\"]],\"type\":\"heatmapgl\"}],\"heatmap\":[{\"colorbar\":{\"outlinewidth\":0,\"ticks\":\"\"},\"colorscale\":[[0.0,\"#0d0887\"],[0.1111111111111111,\"#46039f\"],[0.2222222222222222,\"#7201a8\"],[0.3333333333333333,\"#9c179e\"],[0.4444444444444444,\"#bd3786\"],[0.5555555555555556,\"#d8576b\"],[0.6666666666666666,\"#ed7953\"],[0.7777777777777778,\"#fb9f3a\"],[0.8888888888888888,\"#fdca26\"],[1.0,\"#f0f921\"]],\"type\":\"heatmap\"}],\"histogram2dcontour\":[{\"colorbar\":{\"outlinewidth\":0,\"ticks\":\"\"},\"colorscale\":[[0.0,\"#0d0887\"],[0.1111111111111111,\"#46039f\"],[0.2222222222222222,\"#7201a8\"],[0.3333333333333333,\"#9c179e\"],[0.4444444444444444,\"#bd3786\"],[0.5555555555555556,\"#d8576b\"],[0.6666666666666666,\"#ed7953\"],[0.7777777777777778,\"#fb9f3a\"],[0.8888888888888888,\"#fdca26\"],[1.0,\"#f0f921\"]],\"type\":\"histogram2dcontour\"}],\"histogram2d\":[{\"colorbar\":{\"outlinewidth\":0,\"ticks\":\"\"},\"colorscale\":[[0.0,\"#0d0887\"],[0.1111111111111111,\"#46039f\"],[0.2222222222222222,\"#7201a8\"],[0.3333333333333333,\"#9c179e\"],[0.4444444444444444,\"#bd3786\"],[0.5555555555555556,\"#d8576b\"],[0.6666666666666666,\"#ed7953\"],[0.7777777777777778,\"#fb9f3a\"],[0.8888888888888888,\"#fdca26\"],[1.0,\"#f0f921\"]],\"type\":\"histogram2d\"}],\"histogram\":[{\"marker\":{\"pattern\":{\"fillmode\":\"overlay\",\"size\":10,\"solidity\":0.2}},\"type\":\"histogram\"}],\"mesh3d\":[{\"colorbar\":{\"outlinewidth\":0,\"ticks\":\"\"},\"type\":\"mesh3d\"}],\"parcoords\":[{\"line\":{\"colorbar\":{\"outlinewidth\":0,\"ticks\":\"\"}},\"type\":\"parcoords\"}],\"pie\":[{\"automargin\":true,\"type\":\"pie\"}],\"scatter3d\":[{\"line\":{\"colorbar\":{\"outlinewidth\":0,\"ticks\":\"\"}},\"marker\":{\"colorbar\":{\"outlinewidth\":0,\"ticks\":\"\"}},\"type\":\"scatter3d\"}],\"scattercarpet\":[{\"marker\":{\"colorbar\":{\"outlinewidth\":0,\"ticks\":\"\"}},\"type\":\"scattercarpet\"}],\"scattergeo\":[{\"marker\":{\"colorbar\":{\"outlinewidth\":0,\"ticks\":\"\"}},\"type\":\"scattergeo\"}],\"scattergl\":[{\"marker\":{\"line\":{\"color\":\"#283442\"}},\"type\":\"scattergl\"}],\"scattermapbox\":[{\"marker\":{\"colorbar\":{\"outlinewidth\":0,\"ticks\":\"\"}},\"type\":\"scattermapbox\"}],\"scatterpolargl\":[{\"marker\":{\"colorbar\":{\"outlinewidth\":0,\"ticks\":\"\"}},\"type\":\"scatterpolargl\"}],\"scatterpolar\":[{\"marker\":{\"colorbar\":{\"outlinewidth\":0,\"ticks\":\"\"}},\"type\":\"scatterpolar\"}],\"scatter\":[{\"marker\":{\"line\":{\"color\":\"#283442\"}},\"type\":\"scatter\"}],\"scatterternary\":[{\"marker\":{\"colorbar\":{\"outlinewidth\":0,\"ticks\":\"\"}},\"type\":\"scatterternary\"}],\"surface\":[{\"colorbar\":{\"outlinewidth\":0,\"ticks\":\"\"},\"colorscale\":[[0.0,\"#0d0887\"],[0.1111111111111111,\"#46039f\"],[0.2222222222222222,\"#7201a8\"],[0.3333333333333333,\"#9c179e\"],[0.4444444444444444,\"#bd3786\"],[0.5555555555555556,\"#d8576b\"],[0.6666666666666666,\"#ed7953\"],[0.7777777777777778,\"#fb9f3a\"],[0.8888888888888888,\"#fdca26\"],[1.0,\"#f0f921\"]],\"type\":\"surface\"}],\"table\":[{\"cells\":{\"fill\":{\"color\":\"#506784\"},\"line\":{\"color\":\"rgb(17,17,17)\"}},\"header\":{\"fill\":{\"color\":\"#2a3f5f\"},\"line\":{\"color\":\"rgb(17,17,17)\"}},\"type\":\"table\"}]},\"layout\":{\"annotationdefaults\":{\"arrowcolor\":\"#f2f5fa\",\"arrowhead\":0,\"arrowwidth\":1},\"autotypenumbers\":\"strict\",\"coloraxis\":{\"colorbar\":{\"outlinewidth\":0,\"ticks\":\"\"}},\"colorscale\":{\"diverging\":[[0,\"#8e0152\"],[0.1,\"#c51b7d\"],[0.2,\"#de77ae\"],[0.3,\"#f1b6da\"],[0.4,\"#fde0ef\"],[0.5,\"#f7f7f7\"],[0.6,\"#e6f5d0\"],[0.7,\"#b8e186\"],[0.8,\"#7fbc41\"],[0.9,\"#4d9221\"],[1,\"#276419\"]],\"sequential\":[[0.0,\"#0d0887\"],[0.1111111111111111,\"#46039f\"],[0.2222222222222222,\"#7201a8\"],[0.3333333333333333,\"#9c179e\"],[0.4444444444444444,\"#bd3786\"],[0.5555555555555556,\"#d8576b\"],[0.6666666666666666,\"#ed7953\"],[0.7777777777777778,\"#fb9f3a\"],[0.8888888888888888,\"#fdca26\"],[1.0,\"#f0f921\"]],\"sequentialminus\":[[0.0,\"#0d0887\"],[0.1111111111111111,\"#46039f\"],[0.2222222222222222,\"#7201a8\"],[0.3333333333333333,\"#9c179e\"],[0.4444444444444444,\"#bd3786\"],[0.5555555555555556,\"#d8576b\"],[0.6666666666666666,\"#ed7953\"],[0.7777777777777778,\"#fb9f3a\"],[0.8888888888888888,\"#fdca26\"],[1.0,\"#f0f921\"]]},\"colorway\":[\"#636efa\",\"#EF553B\",\"#00cc96\",\"#ab63fa\",\"#FFA15A\",\"#19d3f3\",\"#FF6692\",\"#B6E880\",\"#FF97FF\",\"#FECB52\"],\"font\":{\"color\":\"#f2f5fa\"},\"geo\":{\"bgcolor\":\"rgb(17,17,17)\",\"lakecolor\":\"rgb(17,17,17)\",\"landcolor\":\"rgb(17,17,17)\",\"showlakes\":true,\"showland\":true,\"subunitcolor\":\"#506784\"},\"hoverlabel\":{\"align\":\"left\"},\"hovermode\":\"closest\",\"mapbox\":{\"style\":\"dark\"},\"paper_bgcolor\":\"rgb(17,17,17)\",\"plot_bgcolor\":\"rgb(17,17,17)\",\"polar\":{\"angularaxis\":{\"gridcolor\":\"#506784\",\"linecolor\":\"#506784\",\"ticks\":\"\"},\"bgcolor\":\"rgb(17,17,17)\",\"radialaxis\":{\"gridcolor\":\"#506784\",\"linecolor\":\"#506784\",\"ticks\":\"\"}},\"scene\":{\"xaxis\":{\"backgroundcolor\":\"rgb(17,17,17)\",\"gridcolor\":\"#506784\",\"gridwidth\":2,\"linecolor\":\"#506784\",\"showbackground\":true,\"ticks\":\"\",\"zerolinecolor\":\"#C8D4E3\"},\"yaxis\":{\"backgroundcolor\":\"rgb(17,17,17)\",\"gridcolor\":\"#506784\",\"gridwidth\":2,\"linecolor\":\"#506784\",\"showbackground\":true,\"ticks\":\"\",\"zerolinecolor\":\"#C8D4E3\"},\"zaxis\":{\"backgroundcolor\":\"rgb(17,17,17)\",\"gridcolor\":\"#506784\",\"gridwidth\":2,\"linecolor\":\"#506784\",\"showbackground\":true,\"ticks\":\"\",\"zerolinecolor\":\"#C8D4E3\"}},\"shapedefaults\":{\"line\":{\"color\":\"#f2f5fa\"}},\"sliderdefaults\":{\"bgcolor\":\"#C8D4E3\",\"bordercolor\":\"rgb(17,17,17)\",\"borderwidth\":1,\"tickwidth\":0},\"ternary\":{\"aaxis\":{\"gridcolor\":\"#506784\",\"linecolor\":\"#506784\",\"ticks\":\"\"},\"baxis\":{\"gridcolor\":\"#506784\",\"linecolor\":\"#506784\",\"ticks\":\"\"},\"bgcolor\":\"rgb(17,17,17)\",\"caxis\":{\"gridcolor\":\"#506784\",\"linecolor\":\"#506784\",\"ticks\":\"\"}},\"title\":{\"x\":0.05},\"updatemenudefaults\":{\"bgcolor\":\"#506784\",\"borderwidth\":0},\"xaxis\":{\"automargin\":true,\"gridcolor\":\"#283442\",\"linecolor\":\"#506784\",\"ticks\":\"\",\"title\":{\"standoff\":15},\"zerolinecolor\":\"#283442\",\"zerolinewidth\":2},\"yaxis\":{\"automargin\":true,\"gridcolor\":\"#283442\",\"linecolor\":\"#506784\",\"ticks\":\"\",\"title\":{\"standoff\":15},\"zerolinecolor\":\"#283442\",\"zerolinewidth\":2}}},\"geo\":{\"scope\":\"usa\",\"projection\":{\"type\":\"albers usa\"}},\"margin\":{\"l\":0,\"r\":0,\"t\":80,\"b\":0},\"title\":{\"text\":\"NBA Teams by State\"},\"height\":600},                        {\"responsive\": true}                    ).then(function(){\n",
       "                            \n",
       "var gd = document.getElementById('61e2214c-c042-44f9-b3ac-fb250dd8c717');\n",
       "var x = new MutationObserver(function (mutations, observer) {{\n",
       "        var display = window.getComputedStyle(gd).display;\n",
       "        if (!display || display === 'none') {{\n",
       "            console.log([gd, 'removed!']);\n",
       "            Plotly.purge(gd);\n",
       "            observer.disconnect();\n",
       "        }}\n",
       "}});\n",
       "\n",
       "// Listen for the removal of the full notebook cells\n",
       "var notebookContainer = gd.closest('#notebook-container');\n",
       "if (notebookContainer) {{\n",
       "    x.observe(notebookContainer, {childList: true});\n",
       "}}\n",
       "\n",
       "// Listen for the clearing of the current output cell\n",
       "var outputEl = gd.closest('.output');\n",
       "if (outputEl) {{\n",
       "    x.observe(outputEl, {childList: true});\n",
       "}}\n",
       "\n",
       "                        })                };                });            </script>        </div>"
      ]
     },
     "metadata": {},
     "output_type": "display_data"
    }
   ],
   "source": [
    "df_east = pd.read_csv('eastern_conference.csv')\n",
    "df_east[\"State\"] = df_east[\"Eastern Conference\"].map({\"Miami Heat*\": \"FL\", \"Boston Celtics*\": \"MA\", \"Milwaukee Bucks*\": \"WI\", \"Philadelphia 76ers*\": \"PA\", \"Toronto Raptors*\": \"ON\", \"Chicago Bulls*\": \"IL\", \"Brooklyn Nets*\": \"NY\", \"Cleveland Cavaliers\": \"OH\", \"Atlanta Hawks*\": \"GA\", \"Charlotte Hornets\": \"NC\", \"New York Knicks\": \"NY\", \"Washington Wizards\": \"DC\", \"Indiana Pacers\": \"IN\", \"Detroit Pistons\": \"MI\", \"Orlando Magic\": \"FL\"})\n",
    "df_west = pd.read_csv('western_conference.csv')\n",
    "df_west[\"State\"] = df_west[\"Western Conference\"].map({\"Phoenix Suns*\": \"AZ\", \"Memphis Grizzlies*\": \"TN\", \"Golden State Warriors*\": \"CA\", \"Dallas Mavericks*\": \"TX\", \"Utah Jazz*\": \"UT\", \"Denver Nuggets*\": \"CO\", \"Minnesota Timberwolves*\": \"MN\", \"Los Angeles Clippers\": \"CA\", \"New Orleans Pelicans*\": \"LA\", \"San Antonio Spurs\": \"TX\", \"Los Angeles Lakers\": \"CA\", \"Sacramento Kings\": \"CA\", \"Portland Trail Blazers\": \"OR\", \"Oklahoma City Thunder\": \"OK\", \"Houston Rockets\": \"TX\"})\n",
    "\n",
    "fig_east = px.choropleth(df_east.groupby(\"State\").agg({\"W\": \"mean\", \"Eastern Conference\": lambda x: \"<br>\".join(x)}).reset_index(),\n",
    "                    locations=\"State\", \n",
    "                    color=\"W\", \n",
    "                    locationmode=\"USA-states\", \n",
    "                    scope=\"usa\",\n",
    "                    color_continuous_scale=\"RdYlBu_r\",\n",
    "                    title=\"Eastern Conference NBA Teams by State\",\n",
    "                    hover_name=\"State\",\n",
    "                    hover_data={\"W\": \":.2f\", \"Eastern Conference\": True},\n",
    "                    labels={\"W\": \"Average Wins per State\"})\n",
    "fig_east.update_layout(coloraxis_colorbar=dict(title=\"Average Wins per State\"))\n",
    "\n",
    "fig_west = px.choropleth(df_west.groupby(\"State\").agg({\"W\": \"mean\", \"Western Conference\": lambda x: \"<br>\".join(x)}).reset_index(),\n",
    "                    locations=\"State\", \n",
    "                    color=\"W\", \n",
    "                    locationmode=\"USA-states\", \n",
    "                    scope=\"usa\",\n",
    "                    color_continuous_scale=\"RdYlBu_r\",\n",
    "                    title=\"Western Conference NBA Teams by State\",\n",
    "                    hover_name=\"State\",\n",
    "                    hover_data={\"W\": \":.2f\", \"Western Conference\": True},\n",
    "                    labels={\"W\": \"Average Wins per State\"})\n",
    "fig_west.update_layout(coloraxis_colorbar=dict(title=\"Average Wins per State\"))\n",
    "\n",
    "fig = go.Figure(data=[fig_east.data[0], fig_west.data[0]])\n",
    "fig.update_layout(title=\"NBA Teams by State\",\n",
    "                  geo=dict(scope=\"usa\",\n",
    "                           projection=go.layout.geo.Projection(type=\"albers usa\")),\n",
    "                  margin=dict(l=0, r=0, t=80, b=0),\n",
    "                  height=600,\n",
    "                  template=\"plotly_dark\")\n",
    "fig.write_html('nba_teams_by_state.html', auto_open=True)\n",
    "fig.show()\n"
   ]
  }
 ],
 "metadata": {
  "kernelspec": {
   "display_name": "Python 3 (ipykernel)",
   "language": "python",
   "name": "python3"
  },
  "language_info": {
   "codemirror_mode": {
    "name": "ipython",
    "version": 3
   },
   "file_extension": ".py",
   "mimetype": "text/x-python",
   "name": "python",
   "nbconvert_exporter": "python",
   "pygments_lexer": "ipython3",
   "version": "3.10.9"
  }
 },
 "nbformat": 4,
 "nbformat_minor": 5
}
